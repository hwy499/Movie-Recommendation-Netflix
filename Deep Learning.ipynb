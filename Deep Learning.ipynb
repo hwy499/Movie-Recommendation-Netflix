{
 "cells": [
  {
   "cell_type": "markdown",
   "id": "efdd8d2f",
   "metadata": {},
   "source": [
    "<br>\n",
    "<img src=\"https://cdn.slidesharecdn.com/ss_thumbnails/netflixprize-170320014819-thumbnail-4.jpg?cb=1489978383\" width='25%'>\n",
    "<h1 align='center'> Netflix Prize Challenge - Movie Recommendation </h1>\n",
    "<h2 align='center'> <font color='#FC7307'> Deep Learning </font> </h2>\n",
    "<h3 align='center'>  Wenyi Hu </h3>\n",
    "<br>"
   ]
  },
  {
   "cell_type": "markdown",
   "id": "722e7907",
   "metadata": {},
   "source": [
    "## <a name='#toc'></a> Table of Contents\n",
    "\n",
    "1. [Import Libraries](#1.-Import-Libraries)\n",
    "2. [Data Preprocessing](#2.-Data-Preprocessing)\n",
    "3. [Build Model Architecture](#3.-Build-Keras-Model-Architecture)\n",
    "4. [Train Model](#4.-Train-Model)\n",
    "5. [Model Evaluation](#5.-Model-Evaluation)"
   ]
  },
  {
   "cell_type": "markdown",
   "id": "79970239",
   "metadata": {},
   "source": [
    "# 1. Import Libraries"
   ]
  },
  {
   "cell_type": "code",
   "execution_count": 1,
   "id": "c386fa78",
   "metadata": {},
   "outputs": [],
   "source": [
    "import numpy as np \n",
    "import pandas as pd \n",
    "import os\n",
    "\n",
    "# for ploting\n",
    "import matplotlib.pyplot as plt\n",
    "import seaborn as sns\n",
    "sns.set(style=\"ticks\", color_codes=True) \n",
    "\n",
    "# for data preprocessing\n",
    "from sklearn.preprocessing import LabelEncoder\n",
    "\n",
    "# import model validation method\n",
    "from sklearn.model_selection import train_test_split\n",
    "\n",
    "# imports for deep learning\n",
    "import tensorflow as tf\n",
    "from tensorflow import keras\n",
    "from keras.models import Model\n",
    "from keras.layers import Input, Reshape, Dot\n",
    "from keras.layers import Concatenate, Dense, Dropout, Embedding\n",
    "from keras.optimizers import Adam\n",
    "from keras.regularizers import l2"
   ]
  },
  {
   "cell_type": "markdown",
   "id": "d6fbfe06",
   "metadata": {},
   "source": [
    "# 2. Data Preprocessing"
   ]
  },
  {
   "cell_type": "code",
   "execution_count": 2,
   "id": "a0c3492b",
   "metadata": {},
   "outputs": [
    {
     "name": "stdout",
     "output_type": "stream",
     "text": [
      "movie_id     17770\n",
      "user_id     480189\n",
      "rating           5\n",
      "date          2182\n",
      "dtype: int64\n"
     ]
    }
   ],
   "source": [
    "# Read all data into a pd dataframe\n",
    "data = pd.read_csv('data.csv', names=['movie_id', 'user_id', 'rating', 'date'])\n",
    "\n",
    "# Convert date to datetime type\n",
    "data['date'] = pd.to_datetime(data['date'])\n",
    "\n",
    "print(data.nunique())"
   ]
  },
  {
   "cell_type": "code",
   "execution_count": 3,
   "id": "04dc7f64",
   "metadata": {
    "scrolled": true
   },
   "outputs": [
    {
     "name": "stdout",
     "output_type": "stream",
     "text": [
      "<class 'pandas.core.frame.DataFrame'>\n",
      "RangeIndex: 100480507 entries, 0 to 100480506\n",
      "Data columns (total 4 columns):\n",
      " #   Column    Dtype         \n",
      "---  ------    -----         \n",
      " 0   movie_id  int64         \n",
      " 1   user_id   int64         \n",
      " 2   rating    int64         \n",
      " 3   date      datetime64[ns]\n",
      "dtypes: datetime64[ns](1), int64(3)\n",
      "memory usage: 3.0 GB\n"
     ]
    }
   ],
   "source": [
    "data.info()"
   ]
  },
  {
   "cell_type": "code",
   "execution_count": 4,
   "id": "11180377",
   "metadata": {},
   "outputs": [
    {
     "data": {
      "text/plain": [
       "movie_id    0\n",
       "user_id     0\n",
       "rating      0\n",
       "date        0\n",
       "dtype: int64"
      ]
     },
     "execution_count": 4,
     "metadata": {},
     "output_type": "execute_result"
    }
   ],
   "source": [
    "data.isnull().sum()"
   ]
  },
  {
   "cell_type": "code",
   "execution_count": 5,
   "id": "25ed5ed0",
   "metadata": {},
   "outputs": [
    {
     "data": {
      "text/html": [
       "<div>\n",
       "<style scoped>\n",
       "    .dataframe tbody tr th:only-of-type {\n",
       "        vertical-align: middle;\n",
       "    }\n",
       "\n",
       "    .dataframe tbody tr th {\n",
       "        vertical-align: top;\n",
       "    }\n",
       "\n",
       "    .dataframe thead th {\n",
       "        text-align: right;\n",
       "    }\n",
       "</style>\n",
       "<table border=\"1\" class=\"dataframe\">\n",
       "  <thead>\n",
       "    <tr style=\"text-align: right;\">\n",
       "      <th></th>\n",
       "      <th>movie_id</th>\n",
       "      <th>user_id</th>\n",
       "      <th>rating</th>\n",
       "    </tr>\n",
       "  </thead>\n",
       "  <tbody>\n",
       "    <tr>\n",
       "      <th>count</th>\n",
       "      <td>1.004805e+08</td>\n",
       "      <td>1.004805e+08</td>\n",
       "      <td>1.004805e+08</td>\n",
       "    </tr>\n",
       "    <tr>\n",
       "      <th>mean</th>\n",
       "      <td>9.070915e+03</td>\n",
       "      <td>1.322489e+06</td>\n",
       "      <td>3.604290e+00</td>\n",
       "    </tr>\n",
       "    <tr>\n",
       "      <th>std</th>\n",
       "      <td>5.131891e+03</td>\n",
       "      <td>7.645368e+05</td>\n",
       "      <td>1.085219e+00</td>\n",
       "    </tr>\n",
       "    <tr>\n",
       "      <th>min</th>\n",
       "      <td>1.000000e+00</td>\n",
       "      <td>6.000000e+00</td>\n",
       "      <td>1.000000e+00</td>\n",
       "    </tr>\n",
       "    <tr>\n",
       "      <th>25%</th>\n",
       "      <td>4.677000e+03</td>\n",
       "      <td>6.611980e+05</td>\n",
       "      <td>3.000000e+00</td>\n",
       "    </tr>\n",
       "    <tr>\n",
       "      <th>50%</th>\n",
       "      <td>9.051000e+03</td>\n",
       "      <td>1.319012e+06</td>\n",
       "      <td>4.000000e+00</td>\n",
       "    </tr>\n",
       "    <tr>\n",
       "      <th>75%</th>\n",
       "      <td>1.363500e+04</td>\n",
       "      <td>1.984455e+06</td>\n",
       "      <td>4.000000e+00</td>\n",
       "    </tr>\n",
       "    <tr>\n",
       "      <th>max</th>\n",
       "      <td>1.777000e+04</td>\n",
       "      <td>2.649429e+06</td>\n",
       "      <td>5.000000e+00</td>\n",
       "    </tr>\n",
       "  </tbody>\n",
       "</table>\n",
       "</div>"
      ],
      "text/plain": [
       "           movie_id       user_id        rating\n",
       "count  1.004805e+08  1.004805e+08  1.004805e+08\n",
       "mean   9.070915e+03  1.322489e+06  3.604290e+00\n",
       "std    5.131891e+03  7.645368e+05  1.085219e+00\n",
       "min    1.000000e+00  6.000000e+00  1.000000e+00\n",
       "25%    4.677000e+03  6.611980e+05  3.000000e+00\n",
       "50%    9.051000e+03  1.319012e+06  4.000000e+00\n",
       "75%    1.363500e+04  1.984455e+06  4.000000e+00\n",
       "max    1.777000e+04  2.649429e+06  5.000000e+00"
      ]
     },
     "execution_count": 5,
     "metadata": {},
     "output_type": "execute_result"
    }
   ],
   "source": [
    "data.describe()"
   ]
  },
  {
   "cell_type": "markdown",
   "id": "3860089f",
   "metadata": {},
   "source": [
    "A smaller dataset (users gave the most rates on most movies) is chosen for the project, with 1000 top rated movies and 10,000 top users. The 12% of the ratings are retained from the whole records."
   ]
  },
  {
   "cell_type": "code",
   "execution_count": 6,
   "id": "bf14b8a8",
   "metadata": {},
   "outputs": [],
   "source": [
    "df = pd.DataFrame()\n",
    "\n",
    "group = data.groupby('user_id')['rating'].count().rename('user_rating_cnt')\n",
    "top_users = group.sort_values(ascending=False)[:10000]\n",
    "\n",
    "group = data.groupby('movie_id')['rating'].count().rename('movie_rating_cnt')\n",
    "top_movies = group.sort_values(ascending=False)[:1000]\n",
    "\n",
    "df = data.join(top_users, how='inner', on='user_id')\n",
    "df = df.join(top_movies, how='inner', on='movie_id')\n",
    "\n",
    "df.reset_index(drop=True, inplace=True)"
   ]
  },
  {
   "cell_type": "markdown",
   "id": "3e002dc9",
   "metadata": {},
   "source": [
    "Re-name the users and movies for uniform name from 0 to 10000 and 1000 respectively"
   ]
  },
  {
   "cell_type": "code",
   "execution_count": 7,
   "id": "5e257705",
   "metadata": {},
   "outputs": [],
   "source": [
    "enc = LabelEncoder()\n",
    "df['user_id'] = enc.fit_transform(df['user_id'].values)\n",
    "df['movie_id'] = enc.fit_transform(df['movie_id'].values)\n",
    "#df.to_csv('top_rating_df.csv', header = True, index = False)"
   ]
  },
  {
   "cell_type": "code",
   "execution_count": 8,
   "id": "5133216e",
   "metadata": {},
   "outputs": [
    {
     "name": "stdout",
     "output_type": "stream",
     "text": [
      "The number of movies is: 1000\n",
      "The number of users is 10000\n",
      "The size (rows) of data processed is 6264018\n"
     ]
    }
   ],
   "source": [
    "# Check the number of movies and users\n",
    "n_movies = df['movie_id'].nunique()\n",
    "n_users = df['user_id'].nunique()\n",
    "\n",
    "print('The number of movies is:',n_movies)\n",
    "print('The number of users is',n_users)\n",
    "print('The size (rows) of data processed is',len(df))"
   ]
  },
  {
   "cell_type": "markdown",
   "id": "cef4f757",
   "metadata": {},
   "source": [
    "Select only 'user' and 'movie' to do deep learning, and convert X, y to np.array"
   ]
  },
  {
   "cell_type": "code",
   "execution_count": 9,
   "id": "2fe35142",
   "metadata": {},
   "outputs": [],
   "source": [
    "X = df[['user_id', 'movie_id']].values\n",
    "y = df['rating'].values"
   ]
  },
  {
   "cell_type": "markdown",
   "id": "8ea4d126",
   "metadata": {},
   "source": [
    "Train/Test Sets Preparation"
   ]
  },
  {
   "cell_type": "code",
   "execution_count": 10,
   "id": "e86dc4fa",
   "metadata": {},
   "outputs": [],
   "source": [
    "# Split train and test data (for test model performance at last)\n",
    "X_train_full, X_test, y_train_full, y_test = train_test_split(X, y, test_size=0.1)\n",
    "\n",
    "# Split train and validation data (to monitor model performance in training)\n",
    "X_train, X_val, y_train, y_val = train_test_split(X_train_full, y_train_full, test_size=0.1)\n",
    "\n",
    "X_train_array = [X_train[:, 0], X_train[:, 1]]\n",
    "X_val_array = [X_val[:, 0], X_val[:, 1]]\n",
    "X_test_array = [X_test[:, 0], X_test[:, 1]]"
   ]
  },
  {
   "cell_type": "markdown",
   "id": "53d66cb3",
   "metadata": {},
   "source": [
    "# 3. Build Keras Model Architecture"
   ]
  },
  {
   "cell_type": "code",
   "execution_count": 11,
   "id": "8f7276d7",
   "metadata": {},
   "outputs": [
    {
     "name": "stdout",
     "output_type": "stream",
     "text": [
      "Model: \"model\"\n",
      "__________________________________________________________________________________________________\n",
      " Layer (type)                   Output Shape         Param #     Connected to                     \n",
      "==================================================================================================\n",
      " input_1 (InputLayer)           [(None, 1)]          0           []                               \n",
      "                                                                                                  \n",
      " input_2 (InputLayer)           [(None, 1)]          0           []                               \n",
      "                                                                                                  \n",
      " embedding (Embedding)          (None, 1, 200)       2000000     ['input_1[0][0]']                \n",
      "                                                                                                  \n",
      " embedding_1 (Embedding)        (None, 1, 200)       200000      ['input_2[0][0]']                \n",
      "                                                                                                  \n",
      " reshape (Reshape)              (None, 200)          0           ['embedding[0][0]']              \n",
      "                                                                                                  \n",
      " reshape_1 (Reshape)            (None, 200)          0           ['embedding_1[0][0]']            \n",
      "                                                                                                  \n",
      " dot (Dot)                      (None, 1)            0           ['reshape[0][0]',                \n",
      "                                                                  'reshape_1[0][0]']              \n",
      "                                                                                                  \n",
      " concatenate (Concatenate)      (None, 401)          0           ['reshape[0][0]',                \n",
      "                                                                  'reshape_1[0][0]',              \n",
      "                                                                  'dot[0][0]']                    \n",
      "                                                                                                  \n",
      " dropout (Dropout)              (None, 401)          0           ['concatenate[0][0]']            \n",
      "                                                                                                  \n",
      " dense (Dense)                  (None, 256)          102912      ['dropout[0][0]']                \n",
      "                                                                                                  \n",
      " dropout_1 (Dropout)            (None, 256)          0           ['dense[0][0]']                  \n",
      "                                                                                                  \n",
      " dense_1 (Dense)                (None, 1)            257         ['dropout_1[0][0]']              \n",
      "                                                                                                  \n",
      "==================================================================================================\n",
      "Total params: 2,303,169\n",
      "Trainable params: 2,303,169\n",
      "Non-trainable params: 0\n",
      "__________________________________________________________________________________________________\n"
     ]
    },
    {
     "name": "stderr",
     "output_type": "stream",
     "text": [
      "D:\\Wangke\\lib\\site-packages\\keras\\optimizers\\optimizer_v2\\adam.py:110: UserWarning: The `lr` argument is deprecated, use `learning_rate` instead.\n",
      "  super(Adam, self).__init__(name, **kwargs)\n"
     ]
    }
   ],
   "source": [
    "# Set the embedding dimension of Matrix factorization\n",
    "e_dimension = 200 # was 50\n",
    "\n",
    "# Build user and movie embedding matrix\n",
    "user = Input(shape=(1,))\n",
    "u = Embedding(n_users, e_dimension, embeddings_initializer='he_normal',\n",
    "              embeddings_regularizer=l2(1e-7))(user) # embedding was 1e-6\n",
    "u = Reshape((e_dimension,))(u)\n",
    "\n",
    "movie = Input(shape=(1,))\n",
    "m = Embedding(n_movies, e_dimension, embeddings_initializer='he_normal',\n",
    "              embeddings_regularizer=l2(1e-7))(movie)  # embedding was 1e-6\n",
    "m = Reshape((e_dimension,))(m)\n",
    "\n",
    "x = Dot(axes=1)([u, m])\n",
    "\n",
    "# concat user, movie along with dot\n",
    "x = Concatenate()([u, m, x])\n",
    "\n",
    "x = Dropout(0.2)(x)\n",
    "\n",
    "# Build last deep learning layers \n",
    "x = Dense(256, activation='relu')(x)\n",
    "x = Dropout(0.2)(x)\n",
    "# x = Dense(128, activation='relu')(x)\n",
    "# x = Dropout(0.2)(x)\n",
    "x = Dense(1)(x)\n",
    "\n",
    "model = Model(inputs=[user, movie], outputs=x)\n",
    "model.compile(loss='mean_squared_error', \n",
    "              optimizer=Adam(lr=0.001),  ## 0.003\n",
    "              metrics=[tf.keras.metrics.RootMeanSquaredError()]\n",
    "              )\n",
    "\n",
    "# Set up for early stop if the validation loss stop improving for more than 1 epoch\n",
    "callbacks_list = [keras.callbacks.EarlyStopping(monitor='val_loss',\n",
    "                                                patience=1,\n",
    "                                                ),\n",
    "                  # Saves the weights after every epoch\n",
    "                  keras.callbacks.ModelCheckpoint(  \n",
    "                      filepath='Model_1',\n",
    "                      monitor='val_loss',\n",
    "                      save_best_only=True,\n",
    "                      )]\n",
    "\n",
    "# Print model info summary\n",
    "model.summary()  "
   ]
  },
  {
   "cell_type": "markdown",
   "id": "8e67db76",
   "metadata": {},
   "source": [
    "## 4. Train Model"
   ]
  },
  {
   "cell_type": "code",
   "execution_count": 12,
   "id": "f4f1ad94",
   "metadata": {},
   "outputs": [
    {
     "name": "stdout",
     "output_type": "stream",
     "text": [
      "Epoch 1/10\n",
      "79278/79279 [============================>.] - ETA: 0s - loss: 0.7988 - root_mean_squared_error: 0.8906INFO:tensorflow:Assets written to: Model_1\\assets\n",
      "79279/79279 [==============================] - 919s 12ms/step - loss: 0.7988 - root_mean_squared_error: 0.8906 - val_loss: 0.7216 - val_root_mean_squared_error: 0.8429\n",
      "Epoch 2/10\n",
      "79276/79279 [============================>.] - ETA: 0s - loss: 0.7139 - root_mean_squared_error: 0.8356INFO:tensorflow:Assets written to: Model_1\\assets\n",
      "79279/79279 [==============================] - 936s 12ms/step - loss: 0.7139 - root_mean_squared_error: 0.8356 - val_loss: 0.6898 - val_root_mean_squared_error: 0.8187\n",
      "Epoch 3/10\n",
      "79276/79279 [============================>.] - ETA: 0s - loss: 0.6778 - root_mean_squared_error: 0.8092INFO:tensorflow:Assets written to: Model_1\\assets\n",
      "79279/79279 [==============================] - 995s 13ms/step - loss: 0.6778 - root_mean_squared_error: 0.8092 - val_loss: 0.6723 - val_root_mean_squared_error: 0.8039\n",
      "Epoch 4/10\n",
      "79279/79279 [==============================] - 1061s 13ms/step - loss: 0.6383 - root_mean_squared_error: 0.7806 - val_loss: 0.6726 - val_root_mean_squared_error: 0.8006\n",
      "INFO:tensorflow:Assets written to: Model_1\\assets\n",
      "CPU times: total: 7h 36min 38s\n",
      "Wall time: 1h 5min 11s\n"
     ]
    }
   ],
   "source": [
    "%%time\n",
    "history = model.fit(x=X_train_array, y=y_train, batch_size=64,\n",
    "                    epochs=10, # 20\n",
    "                    verbose=1, \n",
    "                    callbacks=callbacks_list,\n",
    "                    validation_data=(X_val_array, y_val)\n",
    "                    )\n",
    "\n",
    "# Save the model (we should make a good habit of always saving our models after training)\n",
    "model.save(\"Model_1\")"
   ]
  },
  {
   "cell_type": "markdown",
   "id": "9fb386f8",
   "metadata": {},
   "source": [
    "Visualize the training and validation loss"
   ]
  },
  {
   "cell_type": "code",
   "execution_count": 13,
   "id": "96351332",
   "metadata": {},
   "outputs": [
    {
     "data": {
      "image/png": "[encoded data removed]",
      "text/plain": [
       "<Figure size 432x288 with 1 Axes>"
      ]
     },
     "metadata": {},
     "output_type": "display_data"
    }
   ],
   "source": [
    "history_dict = history.history\n",
    "loss_values = history_dict['loss']\n",
    "val_loss_values = history_dict['val_loss']\n",
    "epochs = range(1, len(loss_values) + 1)\n",
    "\n",
    "plt.plot(epochs, loss_values, 'ro', label='Training loss')\n",
    "plt.plot(epochs, val_loss_values, 'b', label='Validation loss')\n",
    "plt.title('Training and validation loss')\n",
    "plt.xlabel('Epochs')\n",
    "plt.ylabel('Loss')\n",
    "plt.legend()\n",
    "plt.show()"
   ]
  },
  {
   "cell_type": "markdown",
   "id": "4164b29a",
   "metadata": {},
   "source": [
    "## 5. Model Evaluation"
   ]
  },
  {
   "cell_type": "code",
   "execution_count": 14,
   "id": "c4e46adc",
   "metadata": {},
   "outputs": [
    {
     "name": "stdout",
     "output_type": "stream",
     "text": [
      "19576/19576 [==============================] - 11s 546us/step\n"
     ]
    },
    {
     "data": {
      "text/plain": [
       "0.8004348"
      ]
     },
     "execution_count": 14,
     "metadata": {},
     "output_type": "execute_result"
    }
   ],
   "source": [
    "m = tf.keras.metrics.RootMeanSquaredError()\n",
    "m.update_state(model.predict(X_test_array), y_test)\n",
    "m.result().numpy()"
   ]
  }
 ],
 "metadata": {
  "kernelspec": {
   "display_name": "Python 3 (ipykernel)",
   "language": "python",
   "name": "python3"
  },
  "language_info": {
   "codemirror_mode": {
    "name": "ipython",
    "version": 3
   },
   "file_extension": ".py",
   "mimetype": "text/x-python",
   "name": "python",
   "nbconvert_exporter": "python",
   "pygments_lexer": "ipython3",
   "version": "3.9.7"
  }
 },
 "nbformat": 4,
 "nbformat_minor": 5
}
