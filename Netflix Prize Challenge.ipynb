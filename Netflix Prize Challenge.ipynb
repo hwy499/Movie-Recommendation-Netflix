{
 "cells": [
  {
   "cell_type": "markdown",
   "id": "efdd8d2f",
   "metadata": {},
   "source": [
    "<br>\n",
    "<img src=\"https://cdn.slidesharecdn.com/ss_thumbnails/netflixprize-170320014819-thumbnail-4.jpg?cb=1489978383\" width='25%'>\n",
    "<h1 align='center'> Netflix Prize Challenge </h1>\n",
    "<h2 align='center'> <font color='#FC7307'> Movie Recommendation </font> </h2>\n",
    "<h3 align='center'>  Wenyi Hu </h3>\n",
    "<br>"
   ]
  },
  {
   "cell_type": "markdown",
   "id": "2f4fd644",
   "metadata": {},
   "source": [
    "## Problem Description\n",
    "Netflix is all about connecting people to the movies they love. To help customers find those movies, they developed world-class movie recommendation system: CinematchSM. Its job is to predict whether someone will enjoy a movie based on how much they liked or disliked other movies. Netflix use those predictions to make personal movie recommendations based on each customer’s unique tastes. And while Cinematch is doing pretty well, it can always be made better.\n",
    "\n",
    "Now there are a lot of interesting alternative approaches to how Cinematch works that netflix haven’t tried. Some are described in the literature, some aren’t. We’re curious whether any of these can beat Cinematch by making better predictions. Because, frankly, if there is a much better approach it could make a big difference to our customers and our business.\n",
    "\n",
    "The challenge's goal is to develop a system that could beat the RMSE accuracy of 0.9514 from their in-house developed recommendation system (the Cinematch) by 10%. In 2009, the prize was awarded to team ”BellKor’s Pragmatic Chaos” with RMSE of 0.8567 or 10.06% improvement. "
   ]
  },
  {
   "cell_type": "markdown",
   "id": "af2d8fb5",
   "metadata": {},
   "source": [
    "## About the Project\n",
    "1. Predict the rating that a user would give to a movie that he/she has not yet rated (Rating from 1 to 5).\n",
    "2. Minimize the difference between predicted and actual rating (RMSE)"
   ]
  },
  {
   "cell_type": "markdown",
   "id": "722e7907",
   "metadata": {},
   "source": [
    "## <a name='#toc'></a> Table of Contents\n",
    "\n",
    "1. [Import Libraries](#1.-Import-Libraries)\n",
    "2. [Load Data](#2.-Load-Data)\n",
    "3. [EDA](#3.-EDA)\n",
    "4. [Data Preprocessing](#4.-Data-Preprocessing)\n",
    "5. [Machine Learning](#5.-Machine-Learning)\n",
    "6. [Deep Learning](#6.-Deep-Learning)\n",
    "    1. [Train/Test Preparation](#6.1-Train/Test-Preparation)\n",
    "    2. [Build Model Architecture](#6.2-Build-Keras-Model-Architecture)\n",
    "    3. [Train Model](#6.3-Train-Model)\n",
    "    4. [Model Evaluation](#6.4-Model-Evaluation)"
   ]
  },
  {
   "cell_type": "markdown",
   "id": "79970239",
   "metadata": {},
   "source": [
    "# 1. Import Libraries"
   ]
  },
  {
   "cell_type": "code",
   "execution_count": 1,
   "id": "c386fa78",
   "metadata": {},
   "outputs": [],
   "source": [
    "import numpy as np \n",
    "import pandas as pd \n",
    "import os\n",
    "import random\n",
    "\n",
    "# for ploting\n",
    "import matplotlib.pyplot as plt\n",
    "import seaborn as sns\n",
    "sns.set(style=\"ticks\", color_codes=True) \n",
    "\n",
    "# from skikit-surprise import functions:\n",
    "from surprise import SVD, Dataset, Reader, accuracy\n",
    "from surprise.model_selection import cross_validate, train_test_split, GridSearchCV\n",
    "\n",
    "# for data preprocessing\n",
    "from sklearn.preprocessing import LabelEncoder\n",
    "\n",
    "# import model validation method\n",
    "from sklearn.model_selection import train_test_split\n",
    "\n",
    "# imports for deep learning\n",
    "import tensorflow as tf\n",
    "from tensorflow import keras\n",
    "from keras.models import Model\n",
    "from keras.layers import Input, Reshape, Dot\n",
    "from keras.layers import Concatenate, Dense, Dropout, Embedding\n",
    "from keras.optimizers import Adam\n",
    "from keras.regularizers import l2"
   ]
  },
  {
   "cell_type": "markdown",
   "id": "d6fbfe06",
   "metadata": {},
   "source": [
    "# 2. Load Data"
   ]
  },
  {
   "cell_type": "code",
   "execution_count": 2,
   "id": "5dec2059",
   "metadata": {},
   "outputs": [
    {
     "name": "stdout",
     "output_type": "stream",
     "text": [
      "Opening file: combined_data_1.txt\n",
      "Opening file: combined_data_2.txt\n",
      "Opening file: combined_data_3.txt\n",
      "Opening file: combined_data_4.txt\n",
      "CPU times: total: 1min 39s\n",
      "Wall time: 1min 41s\n"
     ]
    }
   ],
   "source": [
    "%%time\n",
    "\n",
    "# DataFrame to store all imported data\n",
    "if not os.path.isfile('data.csv'):\n",
    "    data = open('data.csv', mode='w')\n",
    "\n",
    "files = ['combined_data_1.txt',\n",
    "         'combined_data_2.txt',\n",
    "         'combined_data_3.txt', \n",
    "         'combined_data_4.txt'\n",
    "        ]\n",
    "\n",
    "# Combine all data files into a csv file\n",
    "for file in files:\n",
    "    print(\"Opening file: {}\".format(file))\n",
    "    with open(file) as f:\n",
    "        for line in f:\n",
    "            line = line.strip()\n",
    "            if line.endswith(':'):\n",
    "                movie_id = line.replace(':', '')\n",
    "            else:\n",
    "                data.write(movie_id + ',' + line)\n",
    "                data.write('\\n')\n",
    "data.close()"
   ]
  },
  {
   "cell_type": "code",
   "execution_count": 3,
   "id": "a0c3492b",
   "metadata": {},
   "outputs": [
    {
     "name": "stdout",
     "output_type": "stream",
     "text": [
      "movie_id     17770\n",
      "user_id     480189\n",
      "rating           5\n",
      "date          2182\n",
      "dtype: int64\n"
     ]
    }
   ],
   "source": [
    "# Read all data into a pd dataframe\n",
    "data = pd.read_csv('data.csv', names=['movie_id', 'user_id','rating','date'])\n",
    "\n",
    "# Convert date to datetime type\n",
    "data['date'] = pd.to_datetime(data['date'])\n",
    "\n",
    "print(data.nunique())"
   ]
  },
  {
   "cell_type": "code",
   "execution_count": 4,
   "id": "04dc7f64",
   "metadata": {
    "scrolled": true
   },
   "outputs": [
    {
     "name": "stdout",
     "output_type": "stream",
     "text": [
      "<class 'pandas.core.frame.DataFrame'>\n",
      "RangeIndex: 100480507 entries, 0 to 100480506\n",
      "Data columns (total 4 columns):\n",
      " #   Column    Dtype         \n",
      "---  ------    -----         \n",
      " 0   movie_id  int64         \n",
      " 1   user_id   int64         \n",
      " 2   rating    int64         \n",
      " 3   date      datetime64[ns]\n",
      "dtypes: datetime64[ns](1), int64(3)\n",
      "memory usage: 3.0 GB\n"
     ]
    }
   ],
   "source": [
    "data.info()"
   ]
  },
  {
   "cell_type": "code",
   "execution_count": 5,
   "id": "11180377",
   "metadata": {},
   "outputs": [
    {
     "data": {
      "text/plain": [
       "movie_id    0\n",
       "user_id     0\n",
       "rating      0\n",
       "date        0\n",
       "dtype: int64"
      ]
     },
     "execution_count": 5,
     "metadata": {},
     "output_type": "execute_result"
    }
   ],
   "source": [
    "data.isnull().sum()"
   ]
  },
  {
   "cell_type": "code",
   "execution_count": 6,
   "id": "25ed5ed0",
   "metadata": {},
   "outputs": [
    {
     "data": {
      "text/html": [
       "<div>\n",
       "<style scoped>\n",
       "    .dataframe tbody tr th:only-of-type {\n",
       "        vertical-align: middle;\n",
       "    }\n",
       "\n",
       "    .dataframe tbody tr th {\n",
       "        vertical-align: top;\n",
       "    }\n",
       "\n",
       "    .dataframe thead th {\n",
       "        text-align: right;\n",
       "    }\n",
       "</style>\n",
       "<table border=\"1\" class=\"dataframe\">\n",
       "  <thead>\n",
       "    <tr style=\"text-align: right;\">\n",
       "      <th></th>\n",
       "      <th>movie_id</th>\n",
       "      <th>user_id</th>\n",
       "      <th>rating</th>\n",
       "    </tr>\n",
       "  </thead>\n",
       "  <tbody>\n",
       "    <tr>\n",
       "      <th>count</th>\n",
       "      <td>1.004805e+08</td>\n",
       "      <td>1.004805e+08</td>\n",
       "      <td>1.004805e+08</td>\n",
       "    </tr>\n",
       "    <tr>\n",
       "      <th>mean</th>\n",
       "      <td>9.070915e+03</td>\n",
       "      <td>1.322489e+06</td>\n",
       "      <td>3.604290e+00</td>\n",
       "    </tr>\n",
       "    <tr>\n",
       "      <th>std</th>\n",
       "      <td>5.131891e+03</td>\n",
       "      <td>7.645368e+05</td>\n",
       "      <td>1.085219e+00</td>\n",
       "    </tr>\n",
       "    <tr>\n",
       "      <th>min</th>\n",
       "      <td>1.000000e+00</td>\n",
       "      <td>6.000000e+00</td>\n",
       "      <td>1.000000e+00</td>\n",
       "    </tr>\n",
       "    <tr>\n",
       "      <th>25%</th>\n",
       "      <td>4.677000e+03</td>\n",
       "      <td>6.611980e+05</td>\n",
       "      <td>3.000000e+00</td>\n",
       "    </tr>\n",
       "    <tr>\n",
       "      <th>50%</th>\n",
       "      <td>9.051000e+03</td>\n",
       "      <td>1.319012e+06</td>\n",
       "      <td>4.000000e+00</td>\n",
       "    </tr>\n",
       "    <tr>\n",
       "      <th>75%</th>\n",
       "      <td>1.363500e+04</td>\n",
       "      <td>1.984455e+06</td>\n",
       "      <td>4.000000e+00</td>\n",
       "    </tr>\n",
       "    <tr>\n",
       "      <th>max</th>\n",
       "      <td>1.777000e+04</td>\n",
       "      <td>2.649429e+06</td>\n",
       "      <td>5.000000e+00</td>\n",
       "    </tr>\n",
       "  </tbody>\n",
       "</table>\n",
       "</div>"
      ],
      "text/plain": [
       "           movie_id       user_id        rating\n",
       "count  1.004805e+08  1.004805e+08  1.004805e+08\n",
       "mean   9.070915e+03  1.322489e+06  3.604290e+00\n",
       "std    5.131891e+03  7.645368e+05  1.085219e+00\n",
       "min    1.000000e+00  6.000000e+00  1.000000e+00\n",
       "25%    4.677000e+03  6.611980e+05  3.000000e+00\n",
       "50%    9.051000e+03  1.319012e+06  4.000000e+00\n",
       "75%    1.363500e+04  1.984455e+06  4.000000e+00\n",
       "max    1.777000e+04  2.649429e+06  5.000000e+00"
      ]
     },
     "execution_count": 6,
     "metadata": {},
     "output_type": "execute_result"
    }
   ],
   "source": [
    "data.describe()"
   ]
  },
  {
   "cell_type": "markdown",
   "id": "b26083d6",
   "metadata": {},
   "source": [
    "# 3. EDA"
   ]
  },
  {
   "cell_type": "code",
   "execution_count": 7,
   "id": "cccc63ba",
   "metadata": {
    "scrolled": true
   },
   "outputs": [
    {
     "data": {
      "text/html": [
       "<div>\n",
       "<style scoped>\n",
       "    .dataframe tbody tr th:only-of-type {\n",
       "        vertical-align: middle;\n",
       "    }\n",
       "\n",
       "    .dataframe tbody tr th {\n",
       "        vertical-align: top;\n",
       "    }\n",
       "\n",
       "    .dataframe thead th {\n",
       "        text-align: right;\n",
       "    }\n",
       "</style>\n",
       "<table border=\"1\" class=\"dataframe\">\n",
       "  <thead>\n",
       "    <tr style=\"text-align: right;\">\n",
       "      <th></th>\n",
       "      <th>movie_id</th>\n",
       "      <th>user_id</th>\n",
       "      <th>rating</th>\n",
       "      <th>date</th>\n",
       "    </tr>\n",
       "  </thead>\n",
       "  <tbody>\n",
       "    <tr>\n",
       "      <th>0</th>\n",
       "      <td>1</td>\n",
       "      <td>1488844</td>\n",
       "      <td>3</td>\n",
       "      <td>2005-09-06</td>\n",
       "    </tr>\n",
       "    <tr>\n",
       "      <th>1</th>\n",
       "      <td>1</td>\n",
       "      <td>822109</td>\n",
       "      <td>5</td>\n",
       "      <td>2005-05-13</td>\n",
       "    </tr>\n",
       "    <tr>\n",
       "      <th>2</th>\n",
       "      <td>1</td>\n",
       "      <td>885013</td>\n",
       "      <td>4</td>\n",
       "      <td>2005-10-19</td>\n",
       "    </tr>\n",
       "    <tr>\n",
       "      <th>3</th>\n",
       "      <td>1</td>\n",
       "      <td>30878</td>\n",
       "      <td>4</td>\n",
       "      <td>2005-12-26</td>\n",
       "    </tr>\n",
       "    <tr>\n",
       "      <th>4</th>\n",
       "      <td>1</td>\n",
       "      <td>823519</td>\n",
       "      <td>3</td>\n",
       "      <td>2004-05-03</td>\n",
       "    </tr>\n",
       "  </tbody>\n",
       "</table>\n",
       "</div>"
      ],
      "text/plain": [
       "   movie_id  user_id  rating       date\n",
       "0         1  1488844       3 2005-09-06\n",
       "1         1   822109       5 2005-05-13\n",
       "2         1   885013       4 2005-10-19\n",
       "3         1    30878       4 2005-12-26\n",
       "4         1   823519       3 2004-05-03"
      ]
     },
     "execution_count": 7,
     "metadata": {},
     "output_type": "execute_result"
    }
   ],
   "source": [
    "df = data\n",
    "df.head()"
   ]
  },
  {
   "cell_type": "markdown",
   "id": "dba12e6a",
   "metadata": {},
   "source": [
    "**Profiling report**: The dataset is too large that the computer cannot loading the report"
   ]
  },
  {
   "cell_type": "code",
   "execution_count": 8,
   "id": "bebeda67",
   "metadata": {},
   "outputs": [],
   "source": [
    "##Uncomment the code to run and load the report.\n",
    "\n",
    "#from pandas_profiling import ProfileReport\n",
    "\n",
    "#profile = ProfileReport(df, title=\"Pandas Profiling Report\", explorative=True)\n",
    "\n",
    "#profile.to_widgets()"
   ]
  },
  {
   "cell_type": "markdown",
   "id": "a14d194a",
   "metadata": {},
   "source": [
    "**Define a function to make y-axis more readable (by changing the unit)**"
   ]
  },
  {
   "cell_type": "code",
   "execution_count": 9,
   "id": "17706cad",
   "metadata": {},
   "outputs": [],
   "source": [
    "def y_label(num, units = 'M'):\n",
    "    units = units.lower()\n",
    "    num = float(num) \n",
    "    if units == 'k':\n",
    "        return str(num/10**3) + \" K\"\n",
    "    elif units == 'm':\n",
    "        return str(num/10**6) + \" M\"\n",
    "    elif units == 'b':\n",
    "        return str(num/10**9) + \" B\""
   ]
  },
  {
   "cell_type": "markdown",
   "id": "f59d64f5",
   "metadata": {},
   "source": [
    "**Distribution of ratings**:\n",
    "The most rating is 4, and the least rating is 1. "
   ]
  },
  {
   "cell_type": "code",
   "execution_count": 10,
   "id": "6bd2e2ff",
   "metadata": {},
   "outputs": [
    {
     "name": "stderr",
     "output_type": "stream",
     "text": [
      "D:\\Wangke\\lib\\site-packages\\seaborn\\_decorators.py:36: FutureWarning: Pass the following variable as a keyword arg: x. From version 0.12, the only valid positional argument will be `data`, and passing other arguments without an explicit keyword will result in an error or misinterpretation.\n",
      "  warnings.warn(\n",
      "C:\\Users\\MartinGuo\\AppData\\Local\\Temp\\ipykernel_19772\\1944939720.py:4: UserWarning: FixedFormatter should only be used together with FixedLocator\n",
      "  ax.set_yticklabels([y_label(item, 'M') for item in ax.get_yticks()])\n"
     ]
    },
    {
     "data": {
      "image/png": "[encoded data removed]",
      "text/plain": [
       "<Figure size 432x288 with 1 Axes>"
      ]
     },
     "metadata": {},
     "output_type": "display_data"
    }
   ],
   "source": [
    "fig, ax = plt.subplots()\n",
    "plt.title('Distribution of Ratings over Dataset', fontsize=15)\n",
    "sns.countplot(df.rating)\n",
    "ax.set_yticklabels([y_label(item, 'M') for item in ax.get_yticks()])\n",
    "ax.set_ylabel('No. of Ratings(Millions)')\n",
    "plt.show()"
   ]
  },
  {
   "cell_type": "markdown",
   "id": "7db934c7",
   "metadata": {},
   "source": [
    "**Number of ratings trend**: The number of ratings per month gradually increased since 1999. The number of ratings in Jan 2004 was twice as that in 2000. After 1 year (in Jan 2005), the number of ratings was 2.5 times more."
   ]
  },
  {
   "cell_type": "code",
   "execution_count": 11,
   "id": "a10d8ab7",
   "metadata": {
    "scrolled": true
   },
   "outputs": [
    {
     "data": {
      "text/plain": [
       "Timestamp('2005-12-31 00:00:00')"
      ]
     },
     "execution_count": 11,
     "metadata": {},
     "output_type": "execute_result"
    }
   ],
   "source": [
    "data['date'].max()"
   ]
  },
  {
   "cell_type": "code",
   "execution_count": 12,
   "id": "f5397463",
   "metadata": {},
   "outputs": [
    {
     "data": {
      "text/plain": [
       "Timestamp('1999-11-11 00:00:00')"
      ]
     },
     "execution_count": 12,
     "metadata": {},
     "output_type": "execute_result"
    }
   ],
   "source": [
    "data['date'].min()"
   ]
  },
  {
   "cell_type": "code",
   "execution_count": 13,
   "id": "7503aa60",
   "metadata": {},
   "outputs": [
    {
     "name": "stderr",
     "output_type": "stream",
     "text": [
      "C:\\Users\\MartinGuo\\AppData\\Local\\Temp\\ipykernel_19772\\2956781675.py:5: UserWarning: FixedFormatter should only be used together with FixedLocator\n",
      "  ax.set_yticklabels([y_label(item, 'M') for item in ax.get_yticks()])\n"
     ]
    },
    {
     "data": {
      "image/png": "[encoded data removed]",
      "text/plain": [
       "<Figure size 432x288 with 1 Axes>"
      ]
     },
     "metadata": {},
     "output_type": "display_data"
    }
   ],
   "source": [
    "ax = df.resample('m', on='date')['rating'].count().plot()\n",
    "ax.set_title('No. of Ratings per Month')\n",
    "plt.xlabel('Month')\n",
    "plt.ylabel('No of ratings(per month)')\n",
    "ax.set_yticklabels([y_label(item, 'M') for item in ax.get_yticks()])\n",
    "plt.show()"
   ]
  },
  {
   "cell_type": "markdown",
   "id": "ee6c5b7c",
   "metadata": {},
   "source": [
    "**Number of ratings on each day of the week**: Tuesday has the most ratings, and Saturday has the least ratings.The distribution of ratings in each day is similar."
   ]
  },
  {
   "cell_type": "code",
   "execution_count": 14,
   "id": "d6adc490",
   "metadata": {},
   "outputs": [],
   "source": [
    "df['day_of_week'] = df.date.dt.weekday"
   ]
  },
  {
   "cell_type": "code",
   "execution_count": 15,
   "id": "390b8229",
   "metadata": {},
   "outputs": [
    {
     "name": "stderr",
     "output_type": "stream",
     "text": [
      "D:\\Wangke\\lib\\site-packages\\seaborn\\_decorators.py:36: FutureWarning: Pass the following variable as a keyword arg: x. From version 0.12, the only valid positional argument will be `data`, and passing other arguments without an explicit keyword will result in an error or misinterpretation.\n",
      "  warnings.warn(\n",
      "C:\\Users\\MartinGuo\\AppData\\Local\\Temp\\ipykernel_19772\\138514957.py:6: UserWarning: FixedFormatter should only be used together with FixedLocator\n",
      "  ax.set_yticklabels([y_label(item, 'M') for item in ax.get_yticks()])\n"
     ]
    },
    {
     "data": {
      "image/png": "[encoded data removed]",
      "text/plain": [
       "<Figure size 432x288 with 1 Axes>"
      ]
     },
     "metadata": {},
     "output_type": "display_data"
    }
   ],
   "source": [
    "fig, ax = plt.subplots()\n",
    "sns.countplot(df['day_of_week'])\n",
    "plt.title('No. of Ratings over a Week')\n",
    "plt.ylabel('Total no of ratings')\n",
    "plt.xlabel('')\n",
    "ax.set_yticklabels([y_label(item, 'M') for item in ax.get_yticks()])\n",
    "plt.show()"
   ]
  },
  {
   "cell_type": "code",
   "execution_count": 16,
   "id": "cdc7e2a6",
   "metadata": {},
   "outputs": [
    {
     "data": {
      "image/png": "[encoded data removed]",
      "text/plain": [
       "<Figure size 640x288 with 1 Axes>"
      ]
     },
     "metadata": {},
     "output_type": "display_data"
    }
   ],
   "source": [
    "fig = plt.figure(figsize=plt.figaspect(.45))\n",
    "sns.boxplot(y='rating', x='day_of_week', data=df)\n",
    "plt.show()"
   ]
  },
  {
   "cell_type": "markdown",
   "id": "f98a88f5",
   "metadata": {},
   "source": [
    "**The number of ratings given by a user**: Most of users gave a small number of ratings. Only a few users (like the film critics）gave a large number of ratings."
   ]
  },
  {
   "cell_type": "code",
   "execution_count": 17,
   "id": "308565d7",
   "metadata": {},
   "outputs": [],
   "source": [
    "no_of_rated_movies_per_user = df.groupby('user_id')['rating'].count().sort_values(ascending=False)"
   ]
  },
  {
   "cell_type": "code",
   "execution_count": 18,
   "id": "45b89f28",
   "metadata": {
    "scrolled": true
   },
   "outputs": [
    {
     "data": {
      "image/png": "[encoded data removed]",
      "text/plain": [
       "<Figure size 1080x360 with 2 Axes>"
      ]
     },
     "metadata": {},
     "output_type": "display_data"
    }
   ],
   "source": [
    "fig = plt.figure(figsize=(15,5))\n",
    "\n",
    "ax1 = plt.subplot(121)\n",
    "sns.kdeplot(no_of_rated_movies_per_user, shade=True)\n",
    "plt.xlabel('No of ratings by user')\n",
    "plt.title(\"Probability Density Function (PDF)\")\n",
    "\n",
    "ax2 = plt.subplot(122)\n",
    "sns.kdeplot(no_of_rated_movies_per_user, shade=True, cumulative=True)\n",
    "plt.xlabel('No of ratings by user')\n",
    "plt.title('Cumulative Distribution Function (CDF)');"
   ]
  },
  {
   "cell_type": "markdown",
   "id": "cde065c4",
   "metadata": {},
   "source": [
    "**Ratings of a movie given by users**: Most of movies were given small number of ratings, only a small number of movies (like the really popular ones) were given lots of ratings."
   ]
  },
  {
   "cell_type": "code",
   "execution_count": 19,
   "id": "3916f45d",
   "metadata": {},
   "outputs": [],
   "source": [
    "no_of_ratings_per_movie = df.groupby('movie_id')['rating'].count().sort_values(ascending=False)"
   ]
  },
  {
   "cell_type": "code",
   "execution_count": 20,
   "id": "e9ccc00c",
   "metadata": {},
   "outputs": [
    {
     "data": {
      "image/png": "[encoded data removed]",
      "text/plain": [
       "<Figure size 1080x360 with 2 Axes>"
      ]
     },
     "metadata": {},
     "output_type": "display_data"
    }
   ],
   "source": [
    "fig = plt.figure(figsize=(15,5))\n",
    "\n",
    "ax1 = plt.subplot(121)\n",
    "sns.kdeplot(no_of_ratings_per_movie, shade=True)\n",
    "plt.xlabel('No of ratings per movie')\n",
    "plt.title('Probability Density Function (PDF)')\n",
    "\n",
    "ax2 = plt.subplot(122)\n",
    "sns.kdeplot(no_of_ratings_per_movie, shade=True, cumulative=True)\n",
    "plt.xlabel('No of ratings per movie')\n",
    "plt.title('Cumulative Distribution Function (CDF)');"
   ]
  },
  {
   "cell_type": "markdown",
   "id": "ff1f1f63",
   "metadata": {},
   "source": [
    "# 4. Data Preprocessing"
   ]
  },
  {
   "cell_type": "markdown",
   "id": "da6c1525",
   "metadata": {},
   "source": [
    "A smaller dataset (users gave the most rates on most movies) is chosen for the project, with 1000 top rated movies and 10,000 top users. The 12% of the ratings are retained from the whole records."
   ]
  },
  {
   "cell_type": "code",
   "execution_count": 21,
   "id": "dad4bd99",
   "metadata": {},
   "outputs": [],
   "source": [
    "df = pd.DataFrame()\n",
    "\n",
    "group = data.groupby('user_id')['rating'].count().rename('user_rating_cnt')\n",
    "top_users = group.sort_values(ascending=False)[:10000]\n",
    "\n",
    "group = data.groupby('movie_id')['rating'].count().rename('movie_rating_cnt')\n",
    "top_movies = group.sort_values(ascending=False)[:1000]\n",
    "\n",
    "df = data.join(top_users, how='inner', on='user_id')\n",
    "df = df.join(top_movies, how='inner', on='movie_id')\n",
    "\n",
    "df.reset_index(drop=True, inplace=True)"
   ]
  },
  {
   "cell_type": "markdown",
   "id": "a557091e",
   "metadata": {},
   "source": [
    "Re-name the users and movies for uniform name from 0 to 10000 and 1000 respectively"
   ]
  },
  {
   "cell_type": "code",
   "execution_count": 22,
   "id": "2c9e2a15",
   "metadata": {},
   "outputs": [],
   "source": [
    "enc = LabelEncoder()\n",
    "df['user_id'] = enc.fit_transform(df['user_id'].values)\n",
    "df['movie_id'] = enc.fit_transform(df['movie_id'].values)\n",
    "\n",
    "df.to_csv('top_rating_df.csv', header = True, index = False)"
   ]
  },
  {
   "cell_type": "code",
   "execution_count": 23,
   "id": "188d4927",
   "metadata": {},
   "outputs": [
    {
     "name": "stdout",
     "output_type": "stream",
     "text": [
      "The number of movies is: 1000\n",
      "The number of users is 10000\n",
      "The number of records (rows) of data processed is 6264018\n"
     ]
    }
   ],
   "source": [
    "n_movies = df['movie_id'].nunique()\n",
    "n_users = df['user_id'].nunique()\n",
    "print('The number of movies is:',n_movies)\n",
    "print('The number of users is',n_users)\n",
    "print('The number of records (rows) of data processed is',len(df))"
   ]
  },
  {
   "cell_type": "markdown",
   "id": "0f8ad593",
   "metadata": {},
   "source": [
    "Correlation"
   ]
  },
  {
   "cell_type": "code",
   "execution_count": 24,
   "id": "12b375dc",
   "metadata": {},
   "outputs": [
    {
     "data": {
      "text/html": [
       "<style type=\"text/css\">\n",
       "#T_6e668_row0_col0, #T_6e668_row1_col1, #T_6e668_row2_col2, #T_6e668_row3_col3, #T_6e668_row4_col4, #T_6e668_row5_col5 {\n",
       "  background-color: #b40426;\n",
       "  color: #f1f1f1;\n",
       "}\n",
       "#T_6e668_row0_col1, #T_6e668_row0_col3, #T_6e668_row1_col3, #T_6e668_row2_col0, #T_6e668_row2_col3, #T_6e668_row3_col1, #T_6e668_row4_col3, #T_6e668_row5_col1 {\n",
       "  background-color: #3c4ec2;\n",
       "  color: #f1f1f1;\n",
       "}\n",
       "#T_6e668_row0_col2, #T_6e668_row1_col2, #T_6e668_row3_col4 {\n",
       "  background-color: #445acc;\n",
       "  color: #f1f1f1;\n",
       "}\n",
       "#T_6e668_row0_col4, #T_6e668_row1_col5, #T_6e668_row3_col2 {\n",
       "  background-color: #4358cb;\n",
       "  color: #f1f1f1;\n",
       "}\n",
       "#T_6e668_row0_col5 {\n",
       "  background-color: #485fd1;\n",
       "  color: #f1f1f1;\n",
       "}\n",
       "#T_6e668_row1_col0, #T_6e668_row2_col4, #T_6e668_row3_col0, #T_6e668_row4_col0, #T_6e668_row4_col1, #T_6e668_row4_col2, #T_6e668_row4_col5, #T_6e668_row5_col3, #T_6e668_row5_col4 {\n",
       "  background-color: #3b4cc0;\n",
       "  color: #f1f1f1;\n",
       "}\n",
       "#T_6e668_row1_col4, #T_6e668_row3_col5 {\n",
       "  background-color: #4257c9;\n",
       "  color: #f1f1f1;\n",
       "}\n",
       "#T_6e668_row2_col1 {\n",
       "  background-color: #3d50c3;\n",
       "  color: #f1f1f1;\n",
       "}\n",
       "#T_6e668_row2_col5, #T_6e668_row5_col2 {\n",
       "  background-color: #5d7ce6;\n",
       "  color: #f1f1f1;\n",
       "}\n",
       "#T_6e668_row5_col0 {\n",
       "  background-color: #3f53c6;\n",
       "  color: #f1f1f1;\n",
       "}\n",
       "</style>\n",
       "<table id=\"T_6e668\">\n",
       "  <thead>\n",
       "    <tr>\n",
       "      <th class=\"blank level0\" >&nbsp;</th>\n",
       "      <th id=\"T_6e668_level0_col0\" class=\"col_heading level0 col0\" >movie_id</th>\n",
       "      <th id=\"T_6e668_level0_col1\" class=\"col_heading level0 col1\" >user_id</th>\n",
       "      <th id=\"T_6e668_level0_col2\" class=\"col_heading level0 col2\" >rating</th>\n",
       "      <th id=\"T_6e668_level0_col3\" class=\"col_heading level0 col3\" >day_of_week</th>\n",
       "      <th id=\"T_6e668_level0_col4\" class=\"col_heading level0 col4\" >user_rating_cnt</th>\n",
       "      <th id=\"T_6e668_level0_col5\" class=\"col_heading level0 col5\" >movie_rating_cnt</th>\n",
       "    </tr>\n",
       "  </thead>\n",
       "  <tbody>\n",
       "    <tr>\n",
       "      <th id=\"T_6e668_level0_row0\" class=\"row_heading level0 row0\" >movie_id</th>\n",
       "      <td id=\"T_6e668_row0_col0\" class=\"data row0 col0\" >1.000000</td>\n",
       "      <td id=\"T_6e668_row0_col1\" class=\"data row0 col1\" >0.000017</td>\n",
       "      <td id=\"T_6e668_row0_col2\" class=\"data row0 col2\" >0.005035</td>\n",
       "      <td id=\"T_6e668_row0_col3\" class=\"data row0 col3\" >0.001195</td>\n",
       "      <td id=\"T_6e668_row0_col4\" class=\"data row0 col4\" >-0.000355</td>\n",
       "      <td id=\"T_6e668_row0_col5\" class=\"data row0 col5\" >0.017793</td>\n",
       "    </tr>\n",
       "    <tr>\n",
       "      <th id=\"T_6e668_level0_row1\" class=\"row_heading level0 row1\" >user_id</th>\n",
       "      <td id=\"T_6e668_row1_col0\" class=\"data row1 col0\" >0.000017</td>\n",
       "      <td id=\"T_6e668_row1_col1\" class=\"data row1 col1\" >1.000000</td>\n",
       "      <td id=\"T_6e668_row1_col2\" class=\"data row1 col2\" >0.003720</td>\n",
       "      <td id=\"T_6e668_row1_col3\" class=\"data row1 col3\" >0.001492</td>\n",
       "      <td id=\"T_6e668_row1_col4\" class=\"data row1 col4\" >-0.005607</td>\n",
       "      <td id=\"T_6e668_row1_col5\" class=\"data row1 col5\" >0.000270</td>\n",
       "    </tr>\n",
       "    <tr>\n",
       "      <th id=\"T_6e668_level0_row2\" class=\"row_heading level0 row2\" >rating</th>\n",
       "      <td id=\"T_6e668_row2_col0\" class=\"data row2 col0\" >0.005035</td>\n",
       "      <td id=\"T_6e668_row2_col1\" class=\"data row2 col1\" >0.003720</td>\n",
       "      <td id=\"T_6e668_row2_col2\" class=\"data row2 col2\" >1.000000</td>\n",
       "      <td id=\"T_6e668_row2_col3\" class=\"data row2 col3\" >-0.000265</td>\n",
       "      <td id=\"T_6e668_row2_col4\" class=\"data row2 col4\" >-0.030399</td>\n",
       "      <td id=\"T_6e668_row2_col5\" class=\"data row2 col5\" >0.085126</td>\n",
       "    </tr>\n",
       "    <tr>\n",
       "      <th id=\"T_6e668_level0_row3\" class=\"row_heading level0 row3\" >day_of_week</th>\n",
       "      <td id=\"T_6e668_row3_col0\" class=\"data row3 col0\" >0.001195</td>\n",
       "      <td id=\"T_6e668_row3_col1\" class=\"data row3 col1\" >0.001492</td>\n",
       "      <td id=\"T_6e668_row3_col2\" class=\"data row3 col2\" >-0.000265</td>\n",
       "      <td id=\"T_6e668_row3_col3\" class=\"data row3 col3\" >1.000000</td>\n",
       "      <td id=\"T_6e668_row3_col4\" class=\"data row3 col4\" >0.002156</td>\n",
       "      <td id=\"T_6e668_row3_col5\" class=\"data row3 col5\" >-0.004308</td>\n",
       "    </tr>\n",
       "    <tr>\n",
       "      <th id=\"T_6e668_level0_row4\" class=\"row_heading level0 row4\" >user_rating_cnt</th>\n",
       "      <td id=\"T_6e668_row4_col0\" class=\"data row4 col0\" >-0.000355</td>\n",
       "      <td id=\"T_6e668_row4_col1\" class=\"data row4 col1\" >-0.005607</td>\n",
       "      <td id=\"T_6e668_row4_col2\" class=\"data row4 col2\" >-0.030399</td>\n",
       "      <td id=\"T_6e668_row4_col3\" class=\"data row4 col3\" >0.002156</td>\n",
       "      <td id=\"T_6e668_row4_col4\" class=\"data row4 col4\" >1.000000</td>\n",
       "      <td id=\"T_6e668_row4_col5\" class=\"data row4 col5\" >-0.030387</td>\n",
       "    </tr>\n",
       "    <tr>\n",
       "      <th id=\"T_6e668_level0_row5\" class=\"row_heading level0 row5\" >movie_rating_cnt</th>\n",
       "      <td id=\"T_6e668_row5_col0\" class=\"data row5 col0\" >0.017793</td>\n",
       "      <td id=\"T_6e668_row5_col1\" class=\"data row5 col1\" >0.000270</td>\n",
       "      <td id=\"T_6e668_row5_col2\" class=\"data row5 col2\" >0.085126</td>\n",
       "      <td id=\"T_6e668_row5_col3\" class=\"data row5 col3\" >-0.004308</td>\n",
       "      <td id=\"T_6e668_row5_col4\" class=\"data row5 col4\" >-0.030387</td>\n",
       "      <td id=\"T_6e668_row5_col5\" class=\"data row5 col5\" >1.000000</td>\n",
       "    </tr>\n",
       "  </tbody>\n",
       "</table>\n"
      ],
      "text/plain": [
       "<pandas.io.formats.style.Styler at 0x170f273cc40>"
      ]
     },
     "execution_count": 24,
     "metadata": {},
     "output_type": "execute_result"
    }
   ],
   "source": [
    "df.corr().style.background_gradient(cmap='coolwarm')"
   ]
  },
  {
   "cell_type": "code",
   "execution_count": 25,
   "id": "9437ec2b",
   "metadata": {},
   "outputs": [
    {
     "data": {
      "image/png": "[encoded data removed]",
      "text/plain": [
       "<Figure size 432x288 with 1 Axes>"
      ]
     },
     "metadata": {},
     "output_type": "display_data"
    }
   ],
   "source": [
    "df.corr().loc[:,'rating'].sort_values(ascending = False).plot(kind='bar');"
   ]
  },
  {
   "cell_type": "markdown",
   "id": "a0692a01",
   "metadata": {},
   "source": [
    "# 5. Machine Learning\n",
    "\n",
    "## SVD in GridSearchCV\n",
    "1. Prepare train/test sets\n",
    "    - A is used for parameter tuning using grid search. \n",
    "    - B is used for unbiased estimation.\n",
    "2. Build a GridSearchCV with a list of parameters\n",
    "    - Single Value Decomposition(SVD) algorithm is used for matrix factorization.\n",
    "    - Cross validation with 3 folds is used to train the model.\n",
    "    - Root Mean Squared Error(RMSE) is uesed to evaluate the model.\n",
    "3. Run GridSearchCV to find the best estimator\n",
    "    - Fit the model on the training set (A).\n",
    "4. Apply the best estimator to predict the rating\n",
    "    - Apply the best estimator to the the RMSE score on testing sets(A and B)."
   ]
  },
  {
   "cell_type": "code",
   "execution_count": 26,
   "id": "2a66dd59",
   "metadata": {},
   "outputs": [
    {
     "name": "stdout",
     "output_type": "stream",
     "text": [
      "Grid Search...\n",
      "Best RMSE score: 0.7884358160198635\n",
      "Best parameters: {'n_factors': 100, 'n_epochs': 20, 'lr_all': 0.005, 'reg_all': 0.02, 'random_state': 42}\n",
      "Biased accuracy on A,   RMSE: 0.7050\n",
      "Unbiased accuracy on B, RMSE: 0.7725\n",
      "CPU times: total: 4h 40min 55s\n",
      "Wall time: 4h 40min 55s\n"
     ]
    },
    {
     "data": {
      "text/plain": [
       "0.7724601297178781"
      ]
     },
     "execution_count": 26,
     "metadata": {},
     "output_type": "execute_result"
    }
   ],
   "source": [
    "%%time\n",
    "# Choose user, movie, and rating columns for modelling.\n",
    "dataframe = df[['user_id','movie_id','rating']]\n",
    "\n",
    "# The Reader class is used to parse a file containing ratings.\n",
    "reader = Reader(rating_scale=(1,5))\n",
    "\n",
    "# Load the full dataset from a pandas dataframe.\n",
    "data = Dataset.load_from_df(dataframe, reader)\n",
    "raw_ratings = data.raw_ratings\n",
    "\n",
    "# shuffle ratings\n",
    "random.shuffle(raw_ratings)\n",
    "\n",
    "# A = 90% of the data, B = 10% of the data\n",
    "threshold = int(0.9 * len(raw_ratings))\n",
    "A_raw_ratings = raw_ratings[:threshold]\n",
    "B_raw_ratings = raw_ratings[threshold:]\n",
    "\n",
    "data.raw_ratings = A_raw_ratings  # data is now the set A\n",
    "\n",
    "# Select your best algo with grid search.\n",
    "print(\"Grid Search...\")\n",
    "param_grid = {'n_factors': [50, 100, 200],\n",
    "              'n_epochs': [5, 10, 20], \n",
    "              'lr_all': [0.001, 0.002, 0.005],\n",
    "              'reg_all':[0.01, 0.02, 0.05],\n",
    "              'random_state':[42, 100]\n",
    "             }\n",
    "grid_search = GridSearchCV(SVD, param_grid, measures=[\"rmse\"], cv=3)\n",
    "grid_search.fit(data)\n",
    "\n",
    "# Best RMSE score\n",
    "print('Best RMSE score:',grid_search.best_score[\"rmse\"])\n",
    "\n",
    "# Combination of parameters that gave the best RMSE score\n",
    "print('Best parameters:', grid_search.best_params[\"rmse\"])\n",
    "\n",
    "# Get the best estimator\n",
    "algo = grid_search.best_estimator[\"rmse\"]\n",
    "\n",
    "# Retrain on the whole set A\n",
    "trainset = data.build_full_trainset()\n",
    "algo.fit(trainset)\n",
    "\n",
    "# Compute biased accuracy on A\n",
    "predictions = algo.test(trainset.build_testset())\n",
    "print(\"Biased accuracy on A,\", end=\"   \")\n",
    "accuracy.rmse(predictions)\n",
    "\n",
    "# Compute unbiased accuracy on B\n",
    "testset = data.construct_testset(B_raw_ratings)  # testset is now the set B\n",
    "predictions = algo.test(testset)\n",
    "print(\"Unbiased accuracy on B,\", end=\" \")\n",
    "accuracy.rmse(predictions)"
   ]
  },
  {
   "cell_type": "code",
   "execution_count": 28,
   "id": "8bc599fa",
   "metadata": {},
   "outputs": [
    {
     "data": {
      "text/plain": [
       "Prediction(uid=1488844, iid=20, r_ui=None, est=3.2609337106421483, details={'was_impossible': False})"
      ]
     },
     "execution_count": 28,
     "metadata": {},
     "output_type": "execute_result"
    }
   ],
   "source": [
    "# Model prediction with input user_id, movie_id, and rating(optional)\n",
    "algo.predict(1488844,20)\n",
    "\n",
    "# 'uid' is user_id, 'iid' is item_id, 'r_ui' is real rating, 'est' is predicted rating"
   ]
  },
  {
   "cell_type": "markdown",
   "id": "c93a9b83",
   "metadata": {},
   "source": [
    "# 6. Deep Learning"
   ]
  },
  {
   "cell_type": "markdown",
   "id": "cef4f757",
   "metadata": {},
   "source": [
    "## 6.1 Train/Test Preparation\n",
    "Select only 'user' and 'movie' to do deep learning, and convert X, y to np.array"
   ]
  },
  {
   "cell_type": "code",
   "execution_count": 29,
   "id": "2fe35142",
   "metadata": {},
   "outputs": [],
   "source": [
    "X = df[['user_id', 'movie_id']].values\n",
    "y = df['rating'].values"
   ]
  },
  {
   "cell_type": "markdown",
   "id": "8ea4d126",
   "metadata": {},
   "source": [
    "Train/Test Sets Preparation"
   ]
  },
  {
   "cell_type": "code",
   "execution_count": 30,
   "id": "e86dc4fa",
   "metadata": {},
   "outputs": [],
   "source": [
    "# Split train and test data (for test model performance at last)\n",
    "X_train_full, X_test, y_train_full, y_test = train_test_split(X, y, test_size=0.1)\n",
    "\n",
    "# Split train and validation data (to monitor model performance in training)\n",
    "X_train, X_val, y_train, y_val = train_test_split(X_train_full, y_train_full, test_size=0.1)\n",
    "\n",
    "X_train_array = [X_train[:, 0], X_train[:, 1]]\n",
    "X_val_array = [X_val[:, 0], X_val[:, 1]]\n",
    "X_test_array = [X_test[:, 0], X_test[:, 1]]"
   ]
  },
  {
   "cell_type": "markdown",
   "id": "53d66cb3",
   "metadata": {},
   "source": [
    "## 6.2 Build Keras Model Architecture"
   ]
  },
  {
   "cell_type": "code",
   "execution_count": 31,
   "id": "8f7276d7",
   "metadata": {},
   "outputs": [
    {
     "name": "stdout",
     "output_type": "stream",
     "text": [
      "Model: \"model\"\n",
      "__________________________________________________________________________________________________\n",
      " Layer (type)                   Output Shape         Param #     Connected to                     \n",
      "==================================================================================================\n",
      " input_1 (InputLayer)           [(None, 1)]          0           []                               \n",
      "                                                                                                  \n",
      " input_2 (InputLayer)           [(None, 1)]          0           []                               \n",
      "                                                                                                  \n",
      " embedding (Embedding)          (None, 1, 200)       2000000     ['input_1[0][0]']                \n",
      "                                                                                                  \n",
      " embedding_1 (Embedding)        (None, 1, 200)       200000      ['input_2[0][0]']                \n",
      "                                                                                                  \n",
      " reshape (Reshape)              (None, 200)          0           ['embedding[0][0]']              \n",
      "                                                                                                  \n",
      " reshape_1 (Reshape)            (None, 200)          0           ['embedding_1[0][0]']            \n",
      "                                                                                                  \n",
      " dot (Dot)                      (None, 1)            0           ['reshape[0][0]',                \n",
      "                                                                  'reshape_1[0][0]']              \n",
      "                                                                                                  \n",
      " concatenate (Concatenate)      (None, 401)          0           ['reshape[0][0]',                \n",
      "                                                                  'reshape_1[0][0]',              \n",
      "                                                                  'dot[0][0]']                    \n",
      "                                                                                                  \n",
      " dropout (Dropout)              (None, 401)          0           ['concatenate[0][0]']            \n",
      "                                                                                                  \n",
      " dense (Dense)                  (None, 256)          102912      ['dropout[0][0]']                \n",
      "                                                                                                  \n",
      " dropout_1 (Dropout)            (None, 256)          0           ['dense[0][0]']                  \n",
      "                                                                                                  \n",
      " dense_1 (Dense)                (None, 1)            257         ['dropout_1[0][0]']              \n",
      "                                                                                                  \n",
      "==================================================================================================\n",
      "Total params: 2,303,169\n",
      "Trainable params: 2,303,169\n",
      "Non-trainable params: 0\n",
      "__________________________________________________________________________________________________\n"
     ]
    },
    {
     "name": "stderr",
     "output_type": "stream",
     "text": [
      "D:\\Wangke\\lib\\site-packages\\keras\\optimizers\\optimizer_v2\\adam.py:110: UserWarning: The `lr` argument is deprecated, use `learning_rate` instead.\n",
      "  super(Adam, self).__init__(name, **kwargs)\n"
     ]
    }
   ],
   "source": [
    "# Set the embedding dimension of Matrix factorization\n",
    "e_dimension = 200 # was 50\n",
    "\n",
    "# Build user and movie embedding matrix\n",
    "user = Input(shape=(1,))\n",
    "u = Embedding(n_users, e_dimension, embeddings_initializer='he_normal',\n",
    "              embeddings_regularizer=l2(1e-7))(user) # embedding was 1e-6\n",
    "u = Reshape((e_dimension,))(u)\n",
    "\n",
    "movie = Input(shape=(1,))\n",
    "m = Embedding(n_movies, e_dimension, embeddings_initializer='he_normal',\n",
    "              embeddings_regularizer=l2(1e-7))(movie)  # embedding was 1e-6\n",
    "m = Reshape((e_dimension,))(m)\n",
    "\n",
    "x = Dot(axes=1)([u, m])\n",
    "\n",
    "# concat user, movie along with dot\n",
    "x = Concatenate()([u, m, x])\n",
    "\n",
    "x = Dropout(0.2)(x)\n",
    "\n",
    "# Build last deep learning layers \n",
    "x = Dense(256, activation='relu')(x)\n",
    "x = Dropout(0.2)(x)\n",
    "# x = Dense(128, activation='relu')(x)\n",
    "# x = Dropout(0.2)(x)\n",
    "x = Dense(1)(x)\n",
    "\n",
    "model = Model(inputs=[user, movie], outputs=x)\n",
    "model.compile(loss='mean_squared_error', \n",
    "              optimizer=Adam(lr=0.001),  ## 0.003\n",
    "              metrics=[tf.keras.metrics.RootMeanSquaredError()]\n",
    "              )\n",
    "\n",
    "# Set up for early stop if the validation loss stop improving for more than 1 epoch\n",
    "callbacks_list = [keras.callbacks.EarlyStopping(monitor='val_loss',\n",
    "                                                patience=1,\n",
    "                                                ),\n",
    "                  # Saves the weights after every epoch\n",
    "                  keras.callbacks.ModelCheckpoint(  \n",
    "                      filepath='Model_1',\n",
    "                      monitor='val_loss',\n",
    "                      save_best_only=True,\n",
    "                      )]\n",
    "\n",
    "# Print model info summary\n",
    "model.summary()  "
   ]
  },
  {
   "cell_type": "markdown",
   "id": "8e67db76",
   "metadata": {},
   "source": [
    "## 6.3 Train Model"
   ]
  },
  {
   "cell_type": "code",
   "execution_count": 32,
   "id": "f4f1ad94",
   "metadata": {},
   "outputs": [
    {
     "name": "stdout",
     "output_type": "stream",
     "text": [
      "Epoch 1/10\n",
      "79277/79279 [============================>.] - ETA: 0s - loss: 0.7988 - root_mean_squared_error: 0.8906INFO:tensorflow:Assets written to: Model_1\\assets\n",
      "79279/79279 [==============================] - 977s 12ms/step - loss: 0.7988 - root_mean_squared_error: 0.8906 - val_loss: 0.7263 - val_root_mean_squared_error: 0.8457\n",
      "Epoch 2/10\n",
      "79277/79279 [============================>.] - ETA: 0s - loss: 0.7157 - root_mean_squared_error: 0.8367INFO:tensorflow:Assets written to: Model_1\\assets\n",
      "79279/79279 [==============================] - 1027s 13ms/step - loss: 0.7157 - root_mean_squared_error: 0.8367 - val_loss: 0.7017 - val_root_mean_squared_error: 0.8259\n",
      "Epoch 3/10\n",
      "79278/79279 [============================>.] - ETA: 0s - loss: 0.6804 - root_mean_squared_error: 0.8109INFO:tensorflow:Assets written to: Model_1\\assets\n",
      "79279/79279 [==============================] - 1052s 13ms/step - loss: 0.6804 - root_mean_squared_error: 0.8109 - val_loss: 0.6721 - val_root_mean_squared_error: 0.8039\n",
      "Epoch 4/10\n",
      "79279/79279 [==============================] - ETA: 0s - loss: 0.6427 - root_mean_squared_error: 0.7835INFO:tensorflow:Assets written to: Model_1\\assets\n",
      "79279/79279 [==============================] - 1044s 13ms/step - loss: 0.6427 - root_mean_squared_error: 0.7835 - val_loss: 0.6638 - val_root_mean_squared_error: 0.7952\n",
      "Epoch 5/10\n",
      "79279/79279 [==============================] - 1046s 13ms/step - loss: 0.6065 - root_mean_squared_error: 0.7566 - val_loss: 0.6711 - val_root_mean_squared_error: 0.7968\n",
      "INFO:tensorflow:Assets written to: Model_1\\assets\n",
      "CPU times: total: 9h 57min 14s\n",
      "Wall time: 1h 25min 47s\n"
     ]
    }
   ],
   "source": [
    "%%time\n",
    "history = model.fit(x=X_train_array, y=y_train, batch_size=64,\n",
    "                    epochs=10, # 20\n",
    "                    verbose=1, \n",
    "                    callbacks=callbacks_list,\n",
    "                    validation_data=(X_val_array, y_val)\n",
    "                    )\n",
    "\n",
    "# Save the model (we should make a good habit of always saving our models after training)\n",
    "model.save(\"Model_1\")"
   ]
  },
  {
   "cell_type": "markdown",
   "id": "9fb386f8",
   "metadata": {},
   "source": [
    "Visualize the training and validation loss"
   ]
  },
  {
   "cell_type": "code",
   "execution_count": 34,
   "id": "96351332",
   "metadata": {},
   "outputs": [
    {
     "data": {
      "image/png": "[encoded data removed]",
      "text/plain": [
       "<Figure size 432x288 with 1 Axes>"
      ]
     },
     "metadata": {},
     "output_type": "display_data"
    }
   ],
   "source": [
    "history_dict = history.history\n",
    "loss_values = history_dict['loss']\n",
    "val_loss_values = history_dict['val_loss']\n",
    "epochs = range(1, len(loss_values) + 1)\n",
    "\n",
    "plt.plot(epochs, loss_values, 'ro', label='Training loss')\n",
    "plt.plot(epochs, val_loss_values, 'b', label='Validation loss')\n",
    "plt.title('Training and validation loss')\n",
    "plt.xlabel('Epochs')\n",
    "plt.ylabel('Loss')\n",
    "plt.legend()\n",
    "plt.show()"
   ]
  },
  {
   "cell_type": "markdown",
   "id": "4164b29a",
   "metadata": {},
   "source": [
    "## 6.4 Model Evaluation"
   ]
  },
  {
   "cell_type": "code",
   "execution_count": 35,
   "id": "c4e46adc",
   "metadata": {},
   "outputs": [
    {
     "name": "stdout",
     "output_type": "stream",
     "text": [
      "19576/19576 [==============================] - 11s 545us/step\n"
     ]
    },
    {
     "data": {
      "text/plain": [
       "0.7938862"
      ]
     },
     "execution_count": 35,
     "metadata": {},
     "output_type": "execute_result"
    }
   ],
   "source": [
    "m = tf.keras.metrics.RootMeanSquaredError()\n",
    "m.update_state(model.predict(X_test_array), y_test)\n",
    "m.result().numpy()"
   ]
  },
  {
   "cell_type": "code",
   "execution_count": null,
   "id": "2dd74c88",
   "metadata": {},
   "outputs": [],
   "source": [
    " "
   ]
  }
 ],
 "metadata": {
  "kernelspec": {
   "display_name": "Python 3 (ipykernel)",
   "language": "python",
   "name": "python3"
  },
  "language_info": {
   "codemirror_mode": {
    "name": "ipython",
    "version": 3
   },
   "file_extension": ".py",
   "mimetype": "text/x-python",
   "name": "python",
   "nbconvert_exporter": "python",
   "pygments_lexer": "ipython3",
   "version": "3.9.7"
  }
 },
 "nbformat": 4,
 "nbformat_minor": 5
}
