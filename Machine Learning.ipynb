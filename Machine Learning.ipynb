{
 "cells": [
  {
   "cell_type": "markdown",
   "id": "efdd8d2f",
   "metadata": {},
   "source": [
    "<br>\n",
    "<img src=\"https://cdn.slidesharecdn.com/ss_thumbnails/netflixprize-170320014819-thumbnail-4.jpg?cb=1489978383\" width='25%'>\n",
    "<h1 align='center'> Netflix Prize Challenge - Movie Recommendation</h1>\n",
    "<h2 align='center'> <font color='#FC7307'> Machine Learning </font> </h2>\n",
    "<h3 align='center'>  Wenyi Hu </h3>\n",
    "<br>"
   ]
  },
  {
   "cell_type": "markdown",
   "id": "722e7907",
   "metadata": {},
   "source": [
    "## <a name='#toc'></a> Table of Contents\n",
    "\n",
    "1. [Import Libraries](#1.-Import-Libraries)\n",
    "2. [Data Preprocessing](#2.-Data-Preprocessing)\n",
    "3. [Machine Learning](#3.-Machine-Learning)\n",
    "    1. [Baseline Model](#3.1-Baseline-Model)\n",
    "    2. [SVD in GridSearchCV](#3.2-SVD-in-GridSearchCV)\n",
    "        1. [Prepare A and B Sets](#3.2.1-Prepare-A-and-B-Sets)\n",
    "        2. [Build GridSearch Model](#3.2.2-Build-GridSearch-Model)\n",
    "        3. [Code in One](#3.3.3-Code-in-One)"
   ]
  },
  {
   "cell_type": "markdown",
   "id": "79970239",
   "metadata": {},
   "source": [
    "# 1. Import Libraries"
   ]
  },
  {
   "cell_type": "code",
   "execution_count": 1,
   "id": "c386fa78",
   "metadata": {},
   "outputs": [],
   "source": [
    "import numpy as np \n",
    "import pandas as pd \n",
    "import os\n",
    "import random\n",
    "\n",
    "# from skikit-surprise import functions:\n",
    "from surprise import SVD, Dataset, Reader, accuracy\n",
    "from surprise.model_selection import cross_validate, train_test_split, GridSearchCV"
   ]
  },
  {
   "cell_type": "markdown",
   "id": "ff1f1f63",
   "metadata": {},
   "source": [
    "# 2. Data Preprocessing"
   ]
  },
  {
   "cell_type": "code",
   "execution_count": 2,
   "id": "a0c3492b",
   "metadata": {
    "scrolled": true
   },
   "outputs": [
    {
     "name": "stdout",
     "output_type": "stream",
     "text": [
      "movie_id     17770\n",
      "user_id     480189\n",
      "rating           5\n",
      "date          2182\n",
      "dtype: int64\n"
     ]
    }
   ],
   "source": [
    "# Read all data into a pd dataframe\n",
    "data = pd.read_csv('data.csv', names=['movie_id', 'user_id', 'rating', 'date'])\n",
    "\n",
    "# Convert date to datetime type\n",
    "data['date'] = pd.to_datetime(data['date'])\n",
    "\n",
    "print(data.nunique())"
   ]
  },
  {
   "cell_type": "code",
   "execution_count": 3,
   "id": "04dc7f64",
   "metadata": {},
   "outputs": [
    {
     "name": "stdout",
     "output_type": "stream",
     "text": [
      "<class 'pandas.core.frame.DataFrame'>\n",
      "RangeIndex: 100480507 entries, 0 to 100480506\n",
      "Data columns (total 4 columns):\n",
      " #   Column    Dtype         \n",
      "---  ------    -----         \n",
      " 0   movie_id  int64         \n",
      " 1   user_id   int64         \n",
      " 2   rating    int64         \n",
      " 3   date      datetime64[ns]\n",
      "dtypes: datetime64[ns](1), int64(3)\n",
      "memory usage: 3.0 GB\n"
     ]
    }
   ],
   "source": [
    "data.info()"
   ]
  },
  {
   "cell_type": "code",
   "execution_count": 4,
   "id": "11180377",
   "metadata": {},
   "outputs": [
    {
     "data": {
      "text/plain": [
       "movie_id    0\n",
       "user_id     0\n",
       "rating      0\n",
       "date        0\n",
       "dtype: int64"
      ]
     },
     "execution_count": 4,
     "metadata": {},
     "output_type": "execute_result"
    }
   ],
   "source": [
    "data.isnull().sum()"
   ]
  },
  {
   "cell_type": "code",
   "execution_count": 5,
   "id": "25ed5ed0",
   "metadata": {},
   "outputs": [
    {
     "data": {
      "text/html": [
       "<div>\n",
       "<style scoped>\n",
       "    .dataframe tbody tr th:only-of-type {\n",
       "        vertical-align: middle;\n",
       "    }\n",
       "\n",
       "    .dataframe tbody tr th {\n",
       "        vertical-align: top;\n",
       "    }\n",
       "\n",
       "    .dataframe thead th {\n",
       "        text-align: right;\n",
       "    }\n",
       "</style>\n",
       "<table border=\"1\" class=\"dataframe\">\n",
       "  <thead>\n",
       "    <tr style=\"text-align: right;\">\n",
       "      <th></th>\n",
       "      <th>movie_id</th>\n",
       "      <th>user_id</th>\n",
       "      <th>rating</th>\n",
       "    </tr>\n",
       "  </thead>\n",
       "  <tbody>\n",
       "    <tr>\n",
       "      <th>count</th>\n",
       "      <td>1.004805e+08</td>\n",
       "      <td>1.004805e+08</td>\n",
       "      <td>1.004805e+08</td>\n",
       "    </tr>\n",
       "    <tr>\n",
       "      <th>mean</th>\n",
       "      <td>9.070915e+03</td>\n",
       "      <td>1.322489e+06</td>\n",
       "      <td>3.604290e+00</td>\n",
       "    </tr>\n",
       "    <tr>\n",
       "      <th>std</th>\n",
       "      <td>5.131891e+03</td>\n",
       "      <td>7.645368e+05</td>\n",
       "      <td>1.085219e+00</td>\n",
       "    </tr>\n",
       "    <tr>\n",
       "      <th>min</th>\n",
       "      <td>1.000000e+00</td>\n",
       "      <td>6.000000e+00</td>\n",
       "      <td>1.000000e+00</td>\n",
       "    </tr>\n",
       "    <tr>\n",
       "      <th>25%</th>\n",
       "      <td>4.677000e+03</td>\n",
       "      <td>6.611980e+05</td>\n",
       "      <td>3.000000e+00</td>\n",
       "    </tr>\n",
       "    <tr>\n",
       "      <th>50%</th>\n",
       "      <td>9.051000e+03</td>\n",
       "      <td>1.319012e+06</td>\n",
       "      <td>4.000000e+00</td>\n",
       "    </tr>\n",
       "    <tr>\n",
       "      <th>75%</th>\n",
       "      <td>1.363500e+04</td>\n",
       "      <td>1.984455e+06</td>\n",
       "      <td>4.000000e+00</td>\n",
       "    </tr>\n",
       "    <tr>\n",
       "      <th>max</th>\n",
       "      <td>1.777000e+04</td>\n",
       "      <td>2.649429e+06</td>\n",
       "      <td>5.000000e+00</td>\n",
       "    </tr>\n",
       "  </tbody>\n",
       "</table>\n",
       "</div>"
      ],
      "text/plain": [
       "           movie_id       user_id        rating\n",
       "count  1.004805e+08  1.004805e+08  1.004805e+08\n",
       "mean   9.070915e+03  1.322489e+06  3.604290e+00\n",
       "std    5.131891e+03  7.645368e+05  1.085219e+00\n",
       "min    1.000000e+00  6.000000e+00  1.000000e+00\n",
       "25%    4.677000e+03  6.611980e+05  3.000000e+00\n",
       "50%    9.051000e+03  1.319012e+06  4.000000e+00\n",
       "75%    1.363500e+04  1.984455e+06  4.000000e+00\n",
       "max    1.777000e+04  2.649429e+06  5.000000e+00"
      ]
     },
     "execution_count": 5,
     "metadata": {},
     "output_type": "execute_result"
    }
   ],
   "source": [
    "data.describe()"
   ]
  },
  {
   "cell_type": "markdown",
   "id": "da6c1525",
   "metadata": {},
   "source": [
    "A smaller dataset (users gave the most rates on most movies) is chosen for the project, with 1000 top rated movies and 10,000 top users. The 12% of the ratings are retained from the whole records."
   ]
  },
  {
   "cell_type": "code",
   "execution_count": 6,
   "id": "dad4bd99",
   "metadata": {},
   "outputs": [],
   "source": [
    "df = pd.DataFrame()\n",
    "\n",
    "group = data.groupby('user_id')['rating'].count().rename('user_rating_cnt')\n",
    "top_users = group.sort_values(ascending=False)[:10000]\n",
    "\n",
    "group = data.groupby('movie_id')['rating'].count().rename('movie_rating_cnt')\n",
    "top_movies = group.sort_values(ascending=False)[:1000]\n",
    "\n",
    "df = data.join(top_users, how='inner', on='user_id')\n",
    "df = df.join(top_movies, how='inner', on='movie_id')\n",
    "\n",
    "df.reset_index(drop=True, inplace=True)"
   ]
  },
  {
   "cell_type": "markdown",
   "id": "ce6162e5",
   "metadata": {},
   "source": [
    "Re-name the users and movies for uniform name from 0 to 10000 and 1000 respectively"
   ]
  },
  {
   "cell_type": "code",
   "execution_count": 7,
   "id": "13eb272e",
   "metadata": {},
   "outputs": [],
   "source": [
    "from sklearn.preprocessing import LabelEncoder\n",
    "enc = LabelEncoder()\n",
    "df['user_id'] = enc.fit_transform(df['user_id'].values)\n",
    "df['movie_id'] = enc.fit_transform(df['movie_id'].values)\n",
    "#df.to_csv('top_rating_df.csv', header = True, index = False)"
   ]
  },
  {
   "cell_type": "code",
   "execution_count": 8,
   "id": "ec751f1e",
   "metadata": {},
   "outputs": [
    {
     "name": "stdout",
     "output_type": "stream",
     "text": [
      "The number of movies is: 1000\n",
      "The number of users is 10000\n",
      "The number of records (rows) of data processed is 6264018\n"
     ]
    }
   ],
   "source": [
    "n_movies = df['movie_id'].nunique()\n",
    "n_users = df['user_id'].nunique()\n",
    "print('The number of movies is:',n_movies)\n",
    "print('The number of users is',n_users)\n",
    "print('The number of records (rows) of data processed is',len(df))"
   ]
  },
  {
   "cell_type": "markdown",
   "id": "dc77afdd",
   "metadata": {},
   "source": [
    "Correlation"
   ]
  },
  {
   "cell_type": "code",
   "execution_count": 9,
   "id": "ad75d84f",
   "metadata": {},
   "outputs": [
    {
     "data": {
      "text/html": [
       "<style type=\"text/css\">\n",
       "#T_0819f_row0_col0, #T_0819f_row1_col1, #T_0819f_row2_col2, #T_0819f_row3_col3, #T_0819f_row4_col4 {\n",
       "  background-color: #b40426;\n",
       "  color: #f1f1f1;\n",
       "}\n",
       "#T_0819f_row0_col1, #T_0819f_row2_col0, #T_0819f_row4_col1 {\n",
       "  background-color: #3c4ec2;\n",
       "  color: #f1f1f1;\n",
       "}\n",
       "#T_0819f_row0_col2, #T_0819f_row1_col2 {\n",
       "  background-color: #445acc;\n",
       "  color: #f1f1f1;\n",
       "}\n",
       "#T_0819f_row0_col3, #T_0819f_row1_col4 {\n",
       "  background-color: #4358cb;\n",
       "  color: #f1f1f1;\n",
       "}\n",
       "#T_0819f_row0_col4 {\n",
       "  background-color: #485fd1;\n",
       "  color: #f1f1f1;\n",
       "}\n",
       "#T_0819f_row1_col0, #T_0819f_row2_col3, #T_0819f_row3_col0, #T_0819f_row3_col1, #T_0819f_row3_col2, #T_0819f_row3_col4, #T_0819f_row4_col3 {\n",
       "  background-color: #3b4cc0;\n",
       "  color: #f1f1f1;\n",
       "}\n",
       "#T_0819f_row1_col3 {\n",
       "  background-color: #4257c9;\n",
       "  color: #f1f1f1;\n",
       "}\n",
       "#T_0819f_row2_col1 {\n",
       "  background-color: #3d50c3;\n",
       "  color: #f1f1f1;\n",
       "}\n",
       "#T_0819f_row2_col4, #T_0819f_row4_col2 {\n",
       "  background-color: #5d7ce6;\n",
       "  color: #f1f1f1;\n",
       "}\n",
       "#T_0819f_row4_col0 {\n",
       "  background-color: #3f53c6;\n",
       "  color: #f1f1f1;\n",
       "}\n",
       "</style>\n",
       "<table id=\"T_0819f\">\n",
       "  <thead>\n",
       "    <tr>\n",
       "      <th class=\"blank level0\" >&nbsp;</th>\n",
       "      <th id=\"T_0819f_level0_col0\" class=\"col_heading level0 col0\" >movie_id</th>\n",
       "      <th id=\"T_0819f_level0_col1\" class=\"col_heading level0 col1\" >user_id</th>\n",
       "      <th id=\"T_0819f_level0_col2\" class=\"col_heading level0 col2\" >rating</th>\n",
       "      <th id=\"T_0819f_level0_col3\" class=\"col_heading level0 col3\" >user_rating_cnt</th>\n",
       "      <th id=\"T_0819f_level0_col4\" class=\"col_heading level0 col4\" >movie_rating_cnt</th>\n",
       "    </tr>\n",
       "  </thead>\n",
       "  <tbody>\n",
       "    <tr>\n",
       "      <th id=\"T_0819f_level0_row0\" class=\"row_heading level0 row0\" >movie_id</th>\n",
       "      <td id=\"T_0819f_row0_col0\" class=\"data row0 col0\" >1.000000</td>\n",
       "      <td id=\"T_0819f_row0_col1\" class=\"data row0 col1\" >0.000017</td>\n",
       "      <td id=\"T_0819f_row0_col2\" class=\"data row0 col2\" >0.005035</td>\n",
       "      <td id=\"T_0819f_row0_col3\" class=\"data row0 col3\" >-0.000355</td>\n",
       "      <td id=\"T_0819f_row0_col4\" class=\"data row0 col4\" >0.017793</td>\n",
       "    </tr>\n",
       "    <tr>\n",
       "      <th id=\"T_0819f_level0_row1\" class=\"row_heading level0 row1\" >user_id</th>\n",
       "      <td id=\"T_0819f_row1_col0\" class=\"data row1 col0\" >0.000017</td>\n",
       "      <td id=\"T_0819f_row1_col1\" class=\"data row1 col1\" >1.000000</td>\n",
       "      <td id=\"T_0819f_row1_col2\" class=\"data row1 col2\" >0.003720</td>\n",
       "      <td id=\"T_0819f_row1_col3\" class=\"data row1 col3\" >-0.005607</td>\n",
       "      <td id=\"T_0819f_row1_col4\" class=\"data row1 col4\" >0.000270</td>\n",
       "    </tr>\n",
       "    <tr>\n",
       "      <th id=\"T_0819f_level0_row2\" class=\"row_heading level0 row2\" >rating</th>\n",
       "      <td id=\"T_0819f_row2_col0\" class=\"data row2 col0\" >0.005035</td>\n",
       "      <td id=\"T_0819f_row2_col1\" class=\"data row2 col1\" >0.003720</td>\n",
       "      <td id=\"T_0819f_row2_col2\" class=\"data row2 col2\" >1.000000</td>\n",
       "      <td id=\"T_0819f_row2_col3\" class=\"data row2 col3\" >-0.030399</td>\n",
       "      <td id=\"T_0819f_row2_col4\" class=\"data row2 col4\" >0.085126</td>\n",
       "    </tr>\n",
       "    <tr>\n",
       "      <th id=\"T_0819f_level0_row3\" class=\"row_heading level0 row3\" >user_rating_cnt</th>\n",
       "      <td id=\"T_0819f_row3_col0\" class=\"data row3 col0\" >-0.000355</td>\n",
       "      <td id=\"T_0819f_row3_col1\" class=\"data row3 col1\" >-0.005607</td>\n",
       "      <td id=\"T_0819f_row3_col2\" class=\"data row3 col2\" >-0.030399</td>\n",
       "      <td id=\"T_0819f_row3_col3\" class=\"data row3 col3\" >1.000000</td>\n",
       "      <td id=\"T_0819f_row3_col4\" class=\"data row3 col4\" >-0.030387</td>\n",
       "    </tr>\n",
       "    <tr>\n",
       "      <th id=\"T_0819f_level0_row4\" class=\"row_heading level0 row4\" >movie_rating_cnt</th>\n",
       "      <td id=\"T_0819f_row4_col0\" class=\"data row4 col0\" >0.017793</td>\n",
       "      <td id=\"T_0819f_row4_col1\" class=\"data row4 col1\" >0.000270</td>\n",
       "      <td id=\"T_0819f_row4_col2\" class=\"data row4 col2\" >0.085126</td>\n",
       "      <td id=\"T_0819f_row4_col3\" class=\"data row4 col3\" >-0.030387</td>\n",
       "      <td id=\"T_0819f_row4_col4\" class=\"data row4 col4\" >1.000000</td>\n",
       "    </tr>\n",
       "  </tbody>\n",
       "</table>\n"
      ],
      "text/plain": [
       "<pandas.io.formats.style.Styler at 0x1a0da3ff760>"
      ]
     },
     "execution_count": 9,
     "metadata": {},
     "output_type": "execute_result"
    }
   ],
   "source": [
    "df.corr().style.background_gradient(cmap='coolwarm')"
   ]
  },
  {
   "cell_type": "code",
   "execution_count": 10,
   "id": "6efe526e",
   "metadata": {},
   "outputs": [
    {
     "data": {
      "image/png": "[encoded data removed]",
      "text/plain": [
       "<Figure size 432x288 with 1 Axes>"
      ]
     },
     "metadata": {
      "needs_background": "light"
     },
     "output_type": "display_data"
    }
   ],
   "source": [
    "df.corr().loc[:,'rating'].sort_values(ascending = False).plot(kind='bar');"
   ]
  },
  {
   "cell_type": "markdown",
   "id": "778df4bb",
   "metadata": {},
   "source": [
    "# 3. Machine Learning"
   ]
  },
  {
   "cell_type": "markdown",
   "id": "a6cf093c",
   "metadata": {},
   "source": [
    "## 3.1 Baseline Model\n",
    "1. Single Value Decomposition(SVD) algorithm is used for matrix factorization.\n",
    "2. Cross validation with 5 folds is used to train the model.\n",
    "3. Root Mean Squared Error(RMSE) is uesed to evaluate the model.\n",
    "4. Apply the model to predict a rating with given user_id and movie_id."
   ]
  },
  {
   "cell_type": "code",
   "execution_count": 11,
   "id": "17edf87a",
   "metadata": {},
   "outputs": [
    {
     "name": "stdout",
     "output_type": "stream",
     "text": [
      "Evaluating RMSE of algorithm SVD on 5 split(s).\n",
      "\n",
      "                  Fold 1  Fold 2  Fold 3  Fold 4  Fold 5  Mean    Std     \n",
      "RMSE (testset)    0.7753  0.7762  0.7751  0.7757  0.7758  0.7756  0.0004  \n",
      "Fit time          45.81   46.89   46.23   44.98   46.88   46.16   0.72    \n",
      "Test time         10.20   8.92    9.10    8.29    11.16   9.53    1.02    \n",
      "CPU times: total: 5min 13s\n",
      "Wall time: 5min 13s\n"
     ]
    },
    {
     "data": {
      "text/plain": [
       "{'test_rmse': array([0.77531034, 0.77622149, 0.77512104, 0.77572668, 0.77584115]),\n",
       " 'fit_time': (45.80519485473633,\n",
       "  46.889283895492554,\n",
       "  46.2272264957428,\n",
       "  44.97975945472717,\n",
       "  46.87786078453064),\n",
       " 'test_time': (10.201031684875488,\n",
       "  8.92012882232666,\n",
       "  9.098432302474976,\n",
       "  8.290852546691895,\n",
       "  11.161584377288818)}"
      ]
     },
     "execution_count": 11,
     "metadata": {},
     "output_type": "execute_result"
    }
   ],
   "source": [
    "%%time\n",
    "# Choose user, movie, and rating columns for modelling.\n",
    "dataframe = df[['user_id','movie_id','rating']]\n",
    "\n",
    "# The Reader class is used to parse a file containing ratings.\n",
    "reader = Reader(rating_scale=(1,5))\n",
    "\n",
    "# Load a dataset from a pandas dataframe.\n",
    "dataset = Dataset.load_from_df(dataframe, reader)\n",
    "\n",
    "# Algo with default parameters\n",
    "svd = SVD()\n",
    "\n",
    "# cross validation in 5 folds, measure the result based on RMSE\n",
    "cross_validate(svd, dataset, measures=['RMSE'], cv=5, verbose=True)"
   ]
  },
  {
   "cell_type": "code",
   "execution_count": 12,
   "id": "fb21b79a",
   "metadata": {},
   "outputs": [
    {
     "data": {
      "text/plain": [
       "Prediction(uid=1488844, iid=20, r_ui=None, est=3.295636831281422, details={'was_impossible': False})"
      ]
     },
     "execution_count": 12,
     "metadata": {},
     "output_type": "execute_result"
    }
   ],
   "source": [
    "# Model prediction with input user_id, movie_id, and rating(optional)\n",
    "svd.predict(1488844,20)\n",
    "\n",
    "# 'uid' is user_id, 'iid' is item_id, 'r_ui' is real rating, 'est' is predicted rating"
   ]
  },
  {
   "cell_type": "markdown",
   "id": "4b3775af",
   "metadata": {},
   "source": [
    "## 3.2 SVD in GridSearchCV\n",
    "1. Prepare train/test sets\n",
    "2. Build a GridSearchCV with a list of parameters\n",
    "3. Run GridSearchCV to find the best estimator\n",
    "4. Apply the best estimator to predict the rating"
   ]
  },
  {
   "cell_type": "markdown",
   "id": "e93d3183",
   "metadata": {},
   "source": [
    "### 3.2.1 Prepare A and B Sets\n",
    "- A is used for parameter tuning using grid search. \n",
    "- B is used for unbiased estimation."
   ]
  },
  {
   "cell_type": "code",
   "execution_count": 13,
   "id": "ea3106d1",
   "metadata": {},
   "outputs": [
    {
     "name": "stdout",
     "output_type": "stream",
     "text": [
      "CPU times: total: 5.89 s\n",
      "Wall time: 5.89 s\n"
     ]
    }
   ],
   "source": [
    "%%time\n",
    "# Choose user, movie, and rating columns for modelling.\n",
    "dataframe = df[['user_id','movie_id','rating']]\n",
    "\n",
    "# The Reader class is used to parse a file containing ratings.\n",
    "reader = Reader(rating_scale=(1,5))\n",
    "\n",
    "# Load the full dataset from a pandas dataframe.\n",
    "data = Dataset.load_from_df(dataframe, reader)\n",
    "raw_ratings = data.raw_ratings\n",
    "\n",
    "# shuffle ratings\n",
    "random.shuffle(raw_ratings)\n",
    "\n",
    "# A = 90% of the data, B = 10% of the data\n",
    "threshold = int(0.9 * len(raw_ratings))\n",
    "A_raw_ratings = raw_ratings[:threshold]\n",
    "B_raw_ratings = raw_ratings[threshold:]\n",
    "\n",
    "data.raw_ratings = A_raw_ratings  # data is now the set A"
   ]
  },
  {
   "cell_type": "markdown",
   "id": "899e3fc6",
   "metadata": {},
   "source": [
    "### 3.2.2 Build GridSearch Model\n",
    "- Single Value Decomposition(SVD) algorithm is used for matrix factorization.\n",
    "- Cross validation with 3 folds is used to train the model.\n",
    "- Root Mean Squared Error(RMSE) is uesed to evaluate the model.\n",
    "- Fit the model on the training set (A).\n",
    "- Apply the best estimator to the the RMSE score on testing sets(A and B)."
   ]
  },
  {
   "cell_type": "code",
   "execution_count": 14,
   "id": "6e9266d3",
   "metadata": {},
   "outputs": [
    {
     "name": "stdout",
     "output_type": "stream",
     "text": [
      "Grid Search...\n",
      "CPU times: total: 5h 16min 25s\n",
      "Wall time: 5h 16min 31s\n"
     ]
    }
   ],
   "source": [
    "%%time\n",
    "# Select your best algo with grid search.\n",
    "print(\"Grid Search...\")\n",
    "param_grid = {'n_factors': [50, 100, 200],\n",
    "              'n_epochs': [5, 10, 20], \n",
    "              'lr_all': [0.001, 0.002, 0.005],\n",
    "              'reg_all':[0.01, 0.02, 0.05],\n",
    "              'random_state':[42, 100]\n",
    "             }\n",
    "grid_search = GridSearchCV(SVD, param_grid, measures=[\"rmse\"], cv=3)\n",
    "grid_search.fit(data)"
   ]
  },
  {
   "cell_type": "code",
   "execution_count": 15,
   "id": "28fc5488",
   "metadata": {},
   "outputs": [
    {
     "name": "stdout",
     "output_type": "stream",
     "text": [
      "Best RMSE score: 0.7886428381835442\n",
      "Best parameters: {'n_factors': 100, 'n_epochs': 20, 'lr_all': 0.005, 'reg_all': 0.02, 'random_state': 100}\n"
     ]
    }
   ],
   "source": [
    "# best RMSE score\n",
    "print('Best RMSE score:',grid_search.best_score[\"rmse\"])\n",
    "\n",
    "# combination of parameters that gave the best RMSE score\n",
    "print('Best parameters:', grid_search.best_params[\"rmse\"])\n"
   ]
  },
  {
   "cell_type": "code",
   "execution_count": 16,
   "id": "fdd46d37",
   "metadata": {},
   "outputs": [],
   "source": [
    "# get the best estimator\n",
    "algo = grid_search.best_estimator[\"rmse\"]"
   ]
  },
  {
   "cell_type": "code",
   "execution_count": 17,
   "id": "4de25608",
   "metadata": {},
   "outputs": [
    {
     "name": "stdout",
     "output_type": "stream",
     "text": [
      "Biased RMSE on A,   RMSE: 0.7053\n",
      "Unbiased RMSE on B, RMSE: 0.7704\n",
      "CPU times: total: 1min 41s\n",
      "Wall time: 1min 41s\n"
     ]
    },
    {
     "data": {
      "text/plain": [
       "0.7704406223880562"
      ]
     },
     "execution_count": 17,
     "metadata": {},
     "output_type": "execute_result"
    }
   ],
   "source": [
    "%%time\n",
    "# retrain on the whole set A\n",
    "trainset = data.build_full_trainset()\n",
    "algo.fit(trainset)\n",
    "\n",
    "# Compute biased accuracy on A\n",
    "predictions = algo.test(trainset.build_testset())\n",
    "print(\"Biased RMSE on A,\", end=\"   \")\n",
    "accuracy.rmse(predictions)\n",
    "\n",
    "# Compute unbiased accuracy on B\n",
    "testset = data.construct_testset(B_raw_ratings)  # testset is now the set B\n",
    "predictions = algo.test(testset)\n",
    "print(\"Unbiased RMSE on B,\", end=\" \")\n",
    "accuracy.rmse(predictions)"
   ]
  },
  {
   "cell_type": "code",
   "execution_count": 18,
   "id": "64fc9568",
   "metadata": {},
   "outputs": [
    {
     "data": {
      "text/plain": [
       "Prediction(uid=1488844, iid=20, r_ui=None, est=3.263126739109162, details={'was_impossible': False})"
      ]
     },
     "execution_count": 18,
     "metadata": {},
     "output_type": "execute_result"
    }
   ],
   "source": [
    "# Model prediction with input user_id, movie_id, and rating(optional)\n",
    "algo.predict(1488844,20)\n",
    "\n",
    "# 'uid' is user_id, 'iid' is item_id, 'r_ui' is real rating, 'est' is predicted rating"
   ]
  },
  {
   "cell_type": "markdown",
   "id": "1dd8434c",
   "metadata": {},
   "source": [
    "### 3.3.3 Code in One"
   ]
  },
  {
   "cell_type": "code",
   "execution_count": 19,
   "id": "10522d05",
   "metadata": {},
   "outputs": [
    {
     "name": "stdout",
     "output_type": "stream",
     "text": [
      "Grid Search...\n",
      "Best RMSE score: 0.7885261359787004\n",
      "Best parameters: {'n_factors': 100, 'n_epochs': 20, 'lr_all': 0.005, 'reg_all': 0.02, 'random_state': 100}\n",
      "Biased accuracy on A,   RMSE: 0.7056\n",
      "Unbiased accuracy on B, RMSE: 0.7719\n",
      "CPU times: total: 4h 53min 10s\n",
      "Wall time: 4h 53min 13s\n"
     ]
    },
    {
     "data": {
      "text/plain": [
       "0.7719481221793304"
      ]
     },
     "execution_count": 19,
     "metadata": {},
     "output_type": "execute_result"
    }
   ],
   "source": [
    "%%time\n",
    "# Choose user, movie, and rating columns for modelling.\n",
    "dataframe = df[['user_id','movie_id','rating']]\n",
    "\n",
    "# The Reader class is used to parse a file containing ratings.\n",
    "reader = Reader(rating_scale=(1,5))\n",
    "\n",
    "# Load the full dataset from a pandas dataframe.\n",
    "data = Dataset.load_from_df(dataframe, reader)\n",
    "raw_ratings = data.raw_ratings\n",
    "\n",
    "# shuffle ratings\n",
    "random.shuffle(raw_ratings)\n",
    "\n",
    "# A = 90% of the data, B = 10% of the data\n",
    "threshold = int(0.9 * len(raw_ratings))\n",
    "A_raw_ratings = raw_ratings[:threshold]\n",
    "B_raw_ratings = raw_ratings[threshold:]\n",
    "\n",
    "data.raw_ratings = A_raw_ratings  # data is now the set A\n",
    "\n",
    "# Select your best algo with grid search.\n",
    "print(\"Grid Search...\")\n",
    "param_grid = {'n_factors': [50, 100, 200],\n",
    "              'n_epochs': [5, 10, 20], \n",
    "              'lr_all': [0.001, 0.002, 0.005],\n",
    "              'reg_all':[0.01, 0.02, 0.05],\n",
    "              'random_state':[42, 100]\n",
    "             }\n",
    "grid_search = GridSearchCV(SVD, param_grid, measures=[\"rmse\"], cv=3)\n",
    "grid_search.fit(data)\n",
    "\n",
    "# Best RMSE score\n",
    "print('Best RMSE score:',grid_search.best_score[\"rmse\"])\n",
    "\n",
    "# Combination of parameters that gave the best RMSE score\n",
    "print('Best parameters:', grid_search.best_params[\"rmse\"])\n",
    "\n",
    "# Get the best estimator\n",
    "algo = grid_search.best_estimator[\"rmse\"]\n",
    "\n",
    "# Retrain on the whole set A\n",
    "trainset = data.build_full_trainset()\n",
    "algo.fit(trainset)\n",
    "\n",
    "# Compute biased accuracy on A\n",
    "predictions = algo.test(trainset.build_testset())\n",
    "print(\"Biased accuracy on A,\", end=\"   \")\n",
    "accuracy.rmse(predictions)\n",
    "\n",
    "# Compute unbiased accuracy on B\n",
    "testset = data.construct_testset(B_raw_ratings)  # testset is now the set B\n",
    "predictions = algo.test(testset)\n",
    "print(\"Unbiased accuracy on B,\", end=\" \")\n",
    "accuracy.rmse(predictions)"
   ]
  }
 ],
 "metadata": {
  "kernelspec": {
   "display_name": "Python 3 (ipykernel)",
   "language": "python",
   "name": "python3"
  },
  "language_info": {
   "codemirror_mode": {
    "name": "ipython",
    "version": 3
   },
   "file_extension": ".py",
   "mimetype": "text/x-python",
   "name": "python",
   "nbconvert_exporter": "python",
   "pygments_lexer": "ipython3",
   "version": "3.9.7"
  },
  "vscode": {
   "interpreter": {
    "hash": "a448eee56fc2f470c79ef268f595206dda796c64440dc4044079750a8dd63f16"
   }
  }
 },
 "nbformat": 4,
 "nbformat_minor": 5
}
